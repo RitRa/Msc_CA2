{
 "cells": [
  {
   "cell_type": "code",
   "execution_count": 9,
   "id": "561b518f",
   "metadata": {},
   "outputs": [],
   "source": [
    "#libraries\n",
    "import pandas as pd\n",
    "import numpy as np\n",
    "import seaborn as sns\n",
    "import matplotlib.pyplot as plt\n",
    "from IPython.display import Markdown as md\n",
    "# Pickle it for later use\n",
    "import pickle\n",
    "sns.set()"
   ]
  },
  {
   "cell_type": "code",
   "execution_count": 10,
   "id": "c5e318d2",
   "metadata": {},
   "outputs": [],
   "source": [
    "#ignore warnings\n",
    "import warnings\n",
    "warnings.filterwarnings(\"ignore\")"
   ]
  },
  {
   "cell_type": "code",
   "execution_count": 11,
   "id": "9d86edc4",
   "metadata": {},
   "outputs": [],
   "source": [
    "# stop fuzzy charts\n",
    "%config InlineBackend.figure_format = \"retina\""
   ]
  },
  {
   "cell_type": "code",
   "execution_count": 12,
   "id": "0b0622c8",
   "metadata": {},
   "outputs": [],
   "source": [
    "from IPython.core.interactiveshell import InteractiveShell\n",
    "InteractiveShell.ast_node_interactivity ='all'"
   ]
  },
  {
   "cell_type": "code",
   "execution_count": 13,
   "id": "6fd2bc75",
   "metadata": {},
   "outputs": [],
   "source": [
    "df_fertiliser =  pd.read_pickle(\"../data/df_fertiliser.pkl\")  \n",
    "#tweets\n",
    "df_tweets= pd.read_csv(\"../data/farmtweets.csv\")   #farm tweets"
   ]
  },
  {
   "cell_type": "markdown",
   "id": "e074bd31",
   "metadata": {},
   "source": [
    "## Modelling "
   ]
  },
  {
   "cell_type": "code",
   "execution_count": 14,
   "id": "b95407db",
   "metadata": {},
   "outputs": [
    {
     "name": "stdout",
     "output_type": "stream",
     "text": [
      "<class 'pandas.core.frame.DataFrame'>\n",
      "RangeIndex: 12144 entries, 0 to 12143\n",
      "Data columns (total 8 columns):\n",
      " #   Column           Non-Null Count  Dtype         \n",
      "---  ------           --------------  -----         \n",
      " 0   statistic        12144 non-null  object        \n",
      " 1   date             12144 non-null  datetime64[ns]\n",
      " 2   fertiliser_type  12144 non-null  category      \n",
      " 3   unit             12144 non-null  object        \n",
      " 4   value            6557 non-null   float64       \n",
      " 5   month_year       12144 non-null  period[M]     \n",
      " 6   month            12144 non-null  int64         \n",
      " 7   year             12144 non-null  int64         \n",
      "dtypes: category(1), datetime64[ns](1), float64(1), int64(2), object(2), period[M](1)\n",
      "memory usage: 676.3+ KB\n"
     ]
    }
   ],
   "source": [
    "df_fertiliser.info()"
   ]
  },
  {
   "cell_type": "code",
   "execution_count": 15,
   "id": "a99b9ee7",
   "metadata": {},
   "outputs": [
    {
     "name": "stdout",
     "output_type": "stream",
     "text": [
      "DataFrame after dropping the rows having missing values:\n"
     ]
    }
   ],
   "source": [
    "#drop nan values for now\n",
    "\n",
    "# Default configuration drops rows having at least 1 missing value\n",
    "print('DataFrame after dropping the rows having missing values:')\n",
    "df_fertiliser = df_fertiliser.dropna()"
   ]
  },
  {
   "cell_type": "code",
   "execution_count": 16,
   "id": "da11654b",
   "metadata": {},
   "outputs": [
    {
     "data": {
      "text/plain": [
       "(6557, 8)"
      ]
     },
     "execution_count": 16,
     "metadata": {},
     "output_type": "execute_result"
    }
   ],
   "source": [
    "df_fertiliser.shape"
   ]
  },
  {
   "cell_type": "markdown",
   "id": "df61dd19",
   "metadata": {},
   "source": [
    "## Splitting the dataset into the Training set and Test set"
   ]
  },
  {
   "cell_type": "code",
   "execution_count": 17,
   "id": "669e037d",
   "metadata": {},
   "outputs": [],
   "source": [
    "#keep date, fertiliser_type, month_year, month, year\n",
    "X= df_fertiliser.drop(['fertiliser_type', 'statistic', 'unit'], axis=1) # feature matrix \n",
    "y = df_fertiliser['fertiliser_type']\n",
    "class_labels = np.unique(y)"
   ]
  },
  {
   "cell_type": "code",
   "execution_count": 18,
   "id": "bb98edae",
   "metadata": {},
   "outputs": [
    {
     "data": {
      "text/plain": [
       "((4393, 5), (2164, 5))"
      ]
     },
     "execution_count": 18,
     "metadata": {},
     "output_type": "execute_result"
    }
   ],
   "source": [
    "from sklearn.model_selection import train_test_split # Import train_test_split function [2]\n",
    "X_train, X_test, y_train, y_test = train_test_split(X, y, test_size=0.33, random_state=42) # 67% training and 33% test // found out by 1 - test_size = 1 - 0.33 = 0.67 -> 67%\n",
    "X_train.shape, X_test.shape"
   ]
  },
  {
   "cell_type": "markdown",
   "id": "6108e4db",
   "metadata": {},
   "source": [
    "Because machine learning can only take input from numeric values so we need to factorise the data."
   ]
  },
  {
   "cell_type": "code",
   "execution_count": 19,
   "id": "557239cf",
   "metadata": {},
   "outputs": [],
   "source": [
    "import category_encoders as ce\n",
    "\n",
    "encoder = ce.OrdinalEncoder(cols=['date', \n",
    "                                  'month_year', \n",
    "                                  'month', \n",
    "                                  'year'])\n",
    "\n",
    "X_train = encoder.fit_transform(X_train)\n",
    "X_test = encoder.transform(X_test)\n"
   ]
  },
  {
   "cell_type": "markdown",
   "id": "f7dc706d",
   "metadata": {},
   "source": [
    "## Feature Scaling\n",
    "For come of the columns there are some large numbers so I will apply feature scaling "
   ]
  },
  {
   "cell_type": "code",
   "execution_count": 20,
   "id": "3afff4fe",
   "metadata": {},
   "outputs": [],
   "source": [
    "from sklearn.preprocessing import StandardScaler\n",
    "\n",
    "sc = StandardScaler()\n",
    "X_train = sc.fit_transform(X_train)\n",
    "X_test = sc.transform(X_test)"
   ]
  },
  {
   "cell_type": "markdown",
   "id": "b7ea6350",
   "metadata": {},
   "source": [
    "### Label encoding"
   ]
  },
  {
   "cell_type": "code",
   "execution_count": 21,
   "id": "9ea12a29",
   "metadata": {},
   "outputs": [],
   "source": [
    "from sklearn.preprocessing import LabelEncoder\n",
    "\n",
    "label_encoder = LabelEncoder()\n",
    "y_train= label_encoder.fit_transform(y_train)\n",
    "y_test= label_encoder.fit_transform(y_test)"
   ]
  },
  {
   "cell_type": "markdown",
   "id": "d14ba012",
   "metadata": {},
   "source": [
    "### Classsification of fertiliser type"
   ]
  },
  {
   "cell_type": "markdown",
   "id": "65d8cfad",
   "metadata": {},
   "source": [
    "#### DecisionTreeClassifier"
   ]
  },
  {
   "cell_type": "code",
   "execution_count": 22,
   "id": "6abdf9ae",
   "metadata": {},
   "outputs": [],
   "source": [
    "from sklearn.tree import DecisionTreeClassifier\n",
    "from sklearn.metrics import r2_score, mean_squared_error, mean_absolute_error,explained_variance_score\n",
    "from statsmodels.tools.eval_measures import mse, rmse\n",
    "from sklearn.metrics import accuracy_score\n",
    "\n",
    "# Create Decision Tree classifer object\n",
    "clf = DecisionTreeClassifier()\n",
    "\n",
    "# Train Decision Tree Classifer\n",
    "clf = clf.fit(X_train,y_train)\n",
    "\n",
    "#Predict the response for test dataset\n",
    "y_pred = clf.predict(X_test)"
   ]
  },
  {
   "cell_type": "code",
   "execution_count": 23,
   "id": "c8eacd4b",
   "metadata": {},
   "outputs": [
    {
     "data": {
      "text/plain": [
       "array([ 3,  7,  9, ...,  7, 17, 20])"
      ]
     },
     "execution_count": 23,
     "metadata": {},
     "output_type": "execute_result"
    }
   ],
   "source": [
    "y_pred"
   ]
  },
  {
   "cell_type": "code",
   "execution_count": 24,
   "id": "439e179e",
   "metadata": {},
   "outputs": [
    {
     "data": {
      "text/html": [
       "<div>\n",
       "<style scoped>\n",
       "    .dataframe tbody tr th:only-of-type {\n",
       "        vertical-align: middle;\n",
       "    }\n",
       "\n",
       "    .dataframe tbody tr th {\n",
       "        vertical-align: top;\n",
       "    }\n",
       "\n",
       "    .dataframe thead th {\n",
       "        text-align: right;\n",
       "    }\n",
       "</style>\n",
       "<table border=\"1\" class=\"dataframe\">\n",
       "  <thead>\n",
       "    <tr style=\"text-align: right;\">\n",
       "      <th></th>\n",
       "      <th>Actual</th>\n",
       "      <th>Predicted</th>\n",
       "    </tr>\n",
       "  </thead>\n",
       "  <tbody>\n",
       "    <tr>\n",
       "      <th>0</th>\n",
       "      <td>2</td>\n",
       "      <td>3</td>\n",
       "    </tr>\n",
       "    <tr>\n",
       "      <th>1</th>\n",
       "      <td>14</td>\n",
       "      <td>7</td>\n",
       "    </tr>\n",
       "    <tr>\n",
       "      <th>2</th>\n",
       "      <td>9</td>\n",
       "      <td>9</td>\n",
       "    </tr>\n",
       "    <tr>\n",
       "      <th>3</th>\n",
       "      <td>16</td>\n",
       "      <td>23</td>\n",
       "    </tr>\n",
       "    <tr>\n",
       "      <th>4</th>\n",
       "      <td>7</td>\n",
       "      <td>7</td>\n",
       "    </tr>\n",
       "  </tbody>\n",
       "</table>\n",
       "</div>"
      ],
      "text/plain": [
       "   Actual  Predicted\n",
       "0       2          3\n",
       "1      14          7\n",
       "2       9          9\n",
       "3      16         23\n",
       "4       7          7"
      ]
     },
     "execution_count": 24,
     "metadata": {},
     "output_type": "execute_result"
    }
   ],
   "source": [
    "df=pd.DataFrame({'Actual':y_test, 'Predicted':y_pred})\n",
    "df.head()"
   ]
  },
  {
   "cell_type": "code",
   "execution_count": 25,
   "id": "8f856944",
   "metadata": {},
   "outputs": [
    {
     "name": "stdout",
     "output_type": "stream",
     "text": [
      "                                    precision    recall  f1-score   support\n",
      "\n",
      "   Ammonium Sulphate Nitrate (26%)       0.67      0.62      0.65        16\n",
      "Calcium Ammonium Nitrate (27.5% N)       0.78      0.68      0.73       187\n",
      "                  Compound 0-10-20       0.23      0.28      0.25       145\n",
      "                   Compound 0-7-30       0.26      0.22      0.24       174\n",
      "                 Compound 10-10-20       0.61      0.57      0.59       152\n",
      "                  Compound 10-5-25       0.04      0.04      0.04        26\n",
      "                  Compound 13-6-20       0.14      0.14      0.14        21\n",
      "                  Compound 14-7-14       0.21      0.31      0.25       152\n",
      "                  Compound 15-3-20       0.11      0.13      0.12        23\n",
      "                  Compound 18-6-12       0.16      0.18      0.17       157\n",
      "                  Compound 19-0-15       0.30      0.36      0.33        33\n",
      "                  Compound 20-4-10       0.22      0.23      0.22        44\n",
      "                Compound 24-2.2-10       0.67      0.29      0.40         7\n",
      "               Compound 24-2.2-4.5       0.41      0.41      0.41        29\n",
      "                Compound 24-2.5-10       0.19      0.21      0.20       164\n",
      "                   Compound 25-4-0       0.17      0.15      0.16        34\n",
      "                 Compound 27-2.5-5       0.27      0.23      0.25       179\n",
      "                   Compound 7-6-17       0.67      0.73      0.70        84\n",
      "                   Compound 8-5-18       0.26      0.16      0.20        31\n",
      "   Granular Superphosphate (16% P)       0.72      0.65      0.68       126\n",
      "         Muriate of Potash (50% K)       0.45      0.40      0.42       159\n",
      "         Sulphate of Ammonia (21%)       0.48      0.59      0.53        22\n",
      "        Sulphate of Potash (42% K)       1.00      0.94      0.97        17\n",
      "                      Urea (46% N)       0.30      0.29      0.29       182\n",
      "\n",
      "                          accuracy                           0.37      2164\n",
      "                         macro avg       0.39      0.37      0.37      2164\n",
      "                      weighted avg       0.38      0.37      0.37      2164\n",
      "\n"
     ]
    }
   ],
   "source": [
    "# import classification report module\n",
    "from sklearn import metrics\n",
    "from sklearn.metrics import classification_report, confusion_matrix\n",
    "# Summary of the predictions with class names of the streets\n",
    "print(classification_report(y_test,  y_pred, target_names=class_labels))"
   ]
  },
  {
   "cell_type": "markdown",
   "id": "4fb6e1d4",
   "metadata": {},
   "source": [
    "#### Results\n",
    "First round, accuracy is 0.37. "
   ]
  },
  {
   "cell_type": "code",
   "execution_count": 24,
   "id": "6ef2b5f5",
   "metadata": {},
   "outputs": [],
   "source": [
    "from sklearn.ensemble import RandomForestRegressor\n",
    "from sklearn.metrics import mean_absolute_error, mean_squared_error, r2_score"
   ]
  },
  {
   "cell_type": "markdown",
   "id": "f71161f9",
   "metadata": {},
   "source": [
    "# GridSearch cv"
   ]
  },
  {
   "cell_type": "code",
   "execution_count": 19,
   "id": "6e6ccf7c",
   "metadata": {},
   "outputs": [],
   "source": [
    "from sklearn.ensemble import RandomForestClassifier\n",
    "from sklearn.model_selection import GridSearchCV\n",
    "from sklearn.ensemble import RandomForestClassifier\n",
    "from sklearn.linear_model import LogisticRegression\n",
    "from sklearn.neighbors import KNeighborsClassifier\n",
    "\n",
    "# create a dictionary for the models and the parameters\n",
    "model_params = {\n",
    "      'desicion_tree': {\n",
    "        'model': DecisionTreeClassifier(),  # decision tree classifier and parameters\n",
    "        'params' : {\n",
    "            'max_depth' : [4,5,6,7,8],\n",
    "            'criterion' :['gini', 'entropy']\n",
    "        }\n",
    "    },\n",
    "    'random_forest': {\n",
    "        'model': RandomForestClassifier(),  # Random forest classifier and parameters\n",
    "        'params' : {\n",
    "            'n_estimators': [200, 500],\n",
    "            'max_features': ['auto', 'sqrt', 'log2'],\n",
    "            'max_depth' : [4,5,6,7,8],\n",
    "            'criterion' :['gini', 'entropy']\n",
    "        }\n",
    "    },\n",
    "    'KNN': {\n",
    "        'model': KNeighborsClassifier(),   # N nearest neighbours and parameters\n",
    "        'params' : {\n",
    "            'n_neighbors':[5, 10, 20, 30, 40], \n",
    "            'metric':['euclidean', 'manhattan', 'chebyshev', 'minkowski', 'wminkowski', 'seuclidean', 'mahalanobis'],\n",
    "            'weights':['uniform', 'distance' ]\n",
    "            \n",
    "        }\n",
    "    },\n",
    "    'logistic_regression' : {              # Logistic regression and parameters\n",
    "        'model': LogisticRegression(multi_class='auto'),\n",
    "        'params': {\n",
    "            'solver':['newton-cg', 'lbfgs', 'liblinear'],\n",
    "            'penalty': ['none', 'l1', 'l2', 'elasticnet'],\n",
    "            'C': [1,5,10, 100]\n",
    "        }\n",
    "    }\n",
    "}"
   ]
  },
  {
   "cell_type": "code",
   "execution_count": 22,
   "id": "3d3a00bf",
   "metadata": {},
   "outputs": [
    {
     "data": {
      "text/plain": [
       "GridSearchCV(cv=5, estimator=DecisionTreeClassifier(),\n",
       "             param_grid={'criterion': ['gini', 'entropy'],\n",
       "                         'max_depth': [4, 5, 6, 7, 8]})"
      ]
     },
     "execution_count": 22,
     "metadata": {},
     "output_type": "execute_result"
    },
    {
     "data": {
      "text/plain": [
       "GridSearchCV(cv=5, estimator=RandomForestClassifier(),\n",
       "             param_grid={'criterion': ['gini', 'entropy'],\n",
       "                         'max_depth': [4, 5, 6, 7, 8],\n",
       "                         'max_features': ['auto', 'sqrt', 'log2'],\n",
       "                         'n_estimators': [200, 500]})"
      ]
     },
     "execution_count": 22,
     "metadata": {},
     "output_type": "execute_result"
    },
    {
     "data": {
      "text/plain": [
       "GridSearchCV(cv=5, estimator=KNeighborsClassifier(),\n",
       "             param_grid={'metric': ['euclidean', 'manhattan', 'chebyshev',\n",
       "                                    'minkowski', 'wminkowski', 'seuclidean',\n",
       "                                    'mahalanobis'],\n",
       "                         'n_neighbors': [5, 10, 20, 30, 40],\n",
       "                         'weights': ['uniform', 'distance']})"
      ]
     },
     "execution_count": 22,
     "metadata": {},
     "output_type": "execute_result"
    },
    {
     "data": {
      "text/plain": [
       "GridSearchCV(cv=5, estimator=LogisticRegression(),\n",
       "             param_grid={'C': [1, 5, 10, 100],\n",
       "                         'penalty': ['none', 'l1', 'l2', 'elasticnet'],\n",
       "                         'solver': ['newton-cg', 'lbfgs', 'liblinear']})"
      ]
     },
     "execution_count": 22,
     "metadata": {},
     "output_type": "execute_result"
    },
    {
     "data": {
      "text/html": [
       "<div>\n",
       "<style scoped>\n",
       "    .dataframe tbody tr th:only-of-type {\n",
       "        vertical-align: middle;\n",
       "    }\n",
       "\n",
       "    .dataframe tbody tr th {\n",
       "        vertical-align: top;\n",
       "    }\n",
       "\n",
       "    .dataframe thead th {\n",
       "        text-align: right;\n",
       "    }\n",
       "</style>\n",
       "<table border=\"1\" class=\"dataframe\">\n",
       "  <thead>\n",
       "    <tr style=\"text-align: right;\">\n",
       "      <th></th>\n",
       "      <th>model</th>\n",
       "      <th>best_score</th>\n",
       "      <th>best_params</th>\n",
       "    </tr>\n",
       "  </thead>\n",
       "  <tbody>\n",
       "    <tr>\n",
       "      <th>0</th>\n",
       "      <td>desicion_tree</td>\n",
       "      <td>0.308900</td>\n",
       "      <td>{'criterion': 'entropy', 'max_depth': 8}</td>\n",
       "    </tr>\n",
       "    <tr>\n",
       "      <th>1</th>\n",
       "      <td>random_forest</td>\n",
       "      <td>0.192118</td>\n",
       "      <td>{'criterion': 'entropy', 'max_depth': 7, 'max_...</td>\n",
       "    </tr>\n",
       "    <tr>\n",
       "      <th>2</th>\n",
       "      <td>KNN</td>\n",
       "      <td>0.089687</td>\n",
       "      <td>{'metric': 'manhattan', 'n_neighbors': 40, 'we...</td>\n",
       "    </tr>\n",
       "    <tr>\n",
       "      <th>3</th>\n",
       "      <td>logistic_regression</td>\n",
       "      <td>0.092650</td>\n",
       "      <td>{'C': 1, 'penalty': 'l2', 'solver': 'liblinear'}</td>\n",
       "    </tr>\n",
       "  </tbody>\n",
       "</table>\n",
       "</div>"
      ],
      "text/plain": [
       "                 model  best_score  \\\n",
       "0        desicion_tree    0.308900   \n",
       "1        random_forest    0.192118   \n",
       "2                  KNN    0.089687   \n",
       "3  logistic_regression    0.092650   \n",
       "\n",
       "                                         best_params  \n",
       "0           {'criterion': 'entropy', 'max_depth': 8}  \n",
       "1  {'criterion': 'entropy', 'max_depth': 7, 'max_...  \n",
       "2  {'metric': 'manhattan', 'n_neighbors': 40, 'we...  \n",
       "3   {'C': 1, 'penalty': 'l2', 'solver': 'liblinear'}  "
      ]
     },
     "execution_count": 22,
     "metadata": {},
     "output_type": "execute_result"
    }
   ],
   "source": [
    "#create a dataframe\n",
    "scores = []\n",
    "\n",
    "\n",
    "for model_name, mp in model_params.items():\n",
    "    # create classifier with model and parameters\n",
    "    clf =  GridSearchCV(mp['model'], mp['params'], cv=5, return_train_score=False)\n",
    "    #fit to the model\n",
    "    clf.fit(X_train,y_train)\n",
    "    # add score into the dataset\n",
    "    scores.append({\n",
    "        'model': model_name,\n",
    "        'best_score': clf.best_score_,\n",
    "        'best_params': clf.best_params_\n",
    "    })\n",
    "    \n",
    "df_grid_search = pd.DataFrame(scores,columns=['model','best_score','best_params'])\n",
    "df_grid_search"
   ]
  },
  {
   "cell_type": "markdown",
   "id": "b1432623",
   "metadata": {},
   "source": [
    "### Results \n",
    "#### First round \n",
    "\n",
    "model\tbest_score\tbest_params\n",
    "desicion_tree\t0.308673\t{'criterion': 'entropy', 'max_depth': 8}\n",
    "\n",
    "random_forest\t0.192344\t{'criterion': 'entropy', 'max_depth': 7, 'max_...\n",
    "\n",
    "KNN\t0.089687\t{'metric': 'manhattan', 'n_neighbors': 40, 'we...\n",
    "\n",
    "logistic_regression\t0.092650\t{'C': 1, 'penalty': 'l2', 'solver': 'liblinear'}"
   ]
  },
  {
   "cell_type": "markdown",
   "id": "25f20ff6",
   "metadata": {},
   "source": [
    "# Sentiment analysis of tweets"
   ]
  },
  {
   "cell_type": "code",
   "execution_count": 8,
   "id": "709c3f51",
   "metadata": {},
   "outputs": [
    {
     "data": {
      "text/html": [
       "<div>\n",
       "<style scoped>\n",
       "    .dataframe tbody tr th:only-of-type {\n",
       "        vertical-align: middle;\n",
       "    }\n",
       "\n",
       "    .dataframe tbody tr th {\n",
       "        vertical-align: top;\n",
       "    }\n",
       "\n",
       "    .dataframe thead th {\n",
       "        text-align: right;\n",
       "    }\n",
       "</style>\n",
       "<table border=\"1\" class=\"dataframe\">\n",
       "  <thead>\n",
       "    <tr style=\"text-align: right;\">\n",
       "      <th></th>\n",
       "      <th>Unnamed: 0</th>\n",
       "      <th>Datetime</th>\n",
       "      <th>Tweet Id</th>\n",
       "      <th>Text</th>\n",
       "    </tr>\n",
       "  </thead>\n",
       "  <tbody>\n",
       "    <tr>\n",
       "      <th>0</th>\n",
       "      <td>0</td>\n",
       "      <td>2022-04-27 08:42:30+00:00</td>\n",
       "      <td>1519235527324712960</td>\n",
       "      <td>‘Surging input costs are keeping #farmers awak...</td>\n",
       "    </tr>\n",
       "    <tr>\n",
       "      <th>1</th>\n",
       "      <td>1</td>\n",
       "      <td>2022-04-02 17:15:52+00:00</td>\n",
       "      <td>1510305024081117190</td>\n",
       "      <td>@jerwaugh @youngsiward Would you not agree tha...</td>\n",
       "    </tr>\n",
       "    <tr>\n",
       "      <th>2</th>\n",
       "      <td>2</td>\n",
       "      <td>2022-02-27 16:15:11+00:00</td>\n",
       "      <td>1497968564069879813</td>\n",
       "      <td>@libraryturner @lidl_ireland Don’t get used to...</td>\n",
       "    </tr>\n",
       "    <tr>\n",
       "      <th>3</th>\n",
       "      <td>3</td>\n",
       "      <td>2021-12-01 15:46:31+00:00</td>\n",
       "      <td>1466071216813395972</td>\n",
       "      <td>@AgrilandIreland Please show how many Irish Fa...</td>\n",
       "    </tr>\n",
       "  </tbody>\n",
       "</table>\n",
       "</div>"
      ],
      "text/plain": [
       "   Unnamed: 0                   Datetime             Tweet Id  \\\n",
       "0           0  2022-04-27 08:42:30+00:00  1519235527324712960   \n",
       "1           1  2022-04-02 17:15:52+00:00  1510305024081117190   \n",
       "2           2  2022-02-27 16:15:11+00:00  1497968564069879813   \n",
       "3           3  2021-12-01 15:46:31+00:00  1466071216813395972   \n",
       "\n",
       "                                                Text  \n",
       "0  ‘Surging input costs are keeping #farmers awak...  \n",
       "1  @jerwaugh @youngsiward Would you not agree tha...  \n",
       "2  @libraryturner @lidl_ireland Don’t get used to...  \n",
       "3  @AgrilandIreland Please show how many Irish Fa...  "
      ]
     },
     "execution_count": 8,
     "metadata": {},
     "output_type": "execute_result"
    }
   ],
   "source": [
    "df_tweets"
   ]
  },
  {
   "cell_type": "code",
   "execution_count": 9,
   "id": "3f76c09f",
   "metadata": {},
   "outputs": [],
   "source": [
    "# convert to datetime\n",
    "df_tweets['Datetime'] = pd.to_datetime(df_tweets['Datetime']).dt.date"
   ]
  },
  {
   "cell_type": "code",
   "execution_count": 10,
   "id": "54d28310",
   "metadata": {},
   "outputs": [
    {
     "name": "stdout",
     "output_type": "stream",
     "text": [
      "<class 'pandas.core.frame.DataFrame'>\n",
      "RangeIndex: 4 entries, 0 to 3\n",
      "Data columns (total 4 columns):\n",
      " #   Column      Non-Null Count  Dtype         \n",
      "---  ------      --------------  -----         \n",
      " 0   Unnamed: 0  4 non-null      int64         \n",
      " 1   Datetime    4 non-null      datetime64[ns]\n",
      " 2   Tweet Id    4 non-null      int64         \n",
      " 3   Text        4 non-null      object        \n",
      "dtypes: datetime64[ns](1), int64(2), object(1)\n",
      "memory usage: 256.0+ bytes\n"
     ]
    }
   ],
   "source": [
    "# convert the date column to date format\n",
    "df_tweets['Datetime'] = df_tweets['Datetime'].apply(pd.to_datetime)\n",
    "df_tweets.info()"
   ]
  },
  {
   "cell_type": "code",
   "execution_count": 13,
   "id": "24434b17",
   "metadata": {},
   "outputs": [],
   "source": [
    "df_tweets = df_tweets[(df_tweets['Datetime'] > \"2022-01-01\") & (df_tweets['Datetime'] < \"2022-04-29\")]"
   ]
  },
  {
   "cell_type": "code",
   "execution_count": 14,
   "id": "88c6816b",
   "metadata": {},
   "outputs": [],
   "source": [
    "#get the word count of the tweet\n",
    "df_tweets[\"word_count\"] = df_tweets[\"Text\"].apply(lambda x: len(str(x).split()))"
   ]
  },
  {
   "cell_type": "code",
   "execution_count": 15,
   "id": "5ff5cf7f",
   "metadata": {},
   "outputs": [],
   "source": [
    "#get the word count of the tweet\n",
    "df_tweets[\"char_count\"] = df_tweets[\"Text\"].str.len()"
   ]
  },
  {
   "cell_type": "markdown",
   "id": "22cbf737",
   "metadata": {},
   "source": [
    "### Natural Language processing\n",
    "\n",
    "### Topic modelling\n",
    "https://www.youtube.com/watch?v=NYkbqzTlW3w\n",
    "https://www.youtube.com/watch?v=VraAbgAoYSk"
   ]
  },
  {
   "cell_type": "code",
   "execution_count": 16,
   "id": "8583a21d",
   "metadata": {},
   "outputs": [],
   "source": [
    "#https://www.nltk.org/\n",
    "import nltk #natural langugage toolkit"
   ]
  },
  {
   "cell_type": "code",
   "execution_count": 17,
   "id": "c0207f7a",
   "metadata": {},
   "outputs": [
    {
     "name": "stderr",
     "output_type": "stream",
     "text": [
      "[nltk_data] Downloading package stopwords to\n",
      "[nltk_data]     /Users/ritaraher/nltk_data...\n",
      "[nltk_data]   Package stopwords is already up-to-date!\n"
     ]
    },
    {
     "data": {
      "text/plain": [
       "True"
      ]
     },
     "execution_count": 17,
     "metadata": {},
     "output_type": "execute_result"
    }
   ],
   "source": [
    "#download stopwords\n",
    "nltk.download(\"stopwords\")"
   ]
  },
  {
   "cell_type": "code",
   "execution_count": 18,
   "id": "641dbeef",
   "metadata": {},
   "outputs": [],
   "source": [
    "from nltk.corpus import stopwords\n",
    "#remove stopwords\n",
    "stop = stopwords.words(\"english\")"
   ]
  },
  {
   "cell_type": "code",
   "execution_count": 19,
   "id": "7c563339",
   "metadata": {},
   "outputs": [],
   "source": [
    "# counting stop words\n",
    "#stop words\n",
    "df_tweets[\"stopwords\"]= df_tweets[\"Text\"].apply(lambda x: len([x for x in x.split() if x in stop]))"
   ]
  },
  {
   "cell_type": "code",
   "execution_count": 20,
   "id": "21d65355",
   "metadata": {},
   "outputs": [],
   "source": [
    "#count hashtags\n",
    "df_tweets[\"hashtag\"]= df_tweets[\"Text\"].apply(lambda x: len([x for x in x.split() if x.startswith('#')]))"
   ]
  },
  {
   "cell_type": "code",
   "execution_count": 22,
   "id": "0bfa57c8",
   "metadata": {},
   "outputs": [],
   "source": [
    "# Apply text cleaning techniques\n",
    "import re\n",
    "import string\n",
    "\n",
    "def clean_text_round1(text):\n",
    "    text = text.lower()                                              #lowercase\n",
    "    text = re.sub('\\[.*?\\]', '', text)                               #remove the twitter handle\n",
    "    text = re.sub('@[^\\s]+', '', text)                               # remove text in square brackets\n",
    "    text = re.sub('[%s]' % re.escape(string.punctuation), '', text)  # remove punctuation\n",
    "    text = re.sub('\\w*\\d\\w*', '', text)                              #remove words containing numbers\n",
    "    text = re.sub('\\n', '', text)                                    # remove \\n\n",
    "    return text\n",
    "\n",
    "round1 = lambda x: clean_text_round1(x)"
   ]
  },
  {
   "cell_type": "code",
   "execution_count": 23,
   "id": "c2432fd1",
   "metadata": {},
   "outputs": [
    {
     "data": {
      "text/html": [
       "<div>\n",
       "<style scoped>\n",
       "    .dataframe tbody tr th:only-of-type {\n",
       "        vertical-align: middle;\n",
       "    }\n",
       "\n",
       "    .dataframe tbody tr th {\n",
       "        vertical-align: top;\n",
       "    }\n",
       "\n",
       "    .dataframe thead th {\n",
       "        text-align: right;\n",
       "    }\n",
       "</style>\n",
       "<table border=\"1\" class=\"dataframe\">\n",
       "  <thead>\n",
       "    <tr style=\"text-align: right;\">\n",
       "      <th></th>\n",
       "      <th>Unnamed: 0</th>\n",
       "      <th>Datetime</th>\n",
       "      <th>Tweet Id</th>\n",
       "      <th>Text</th>\n",
       "      <th>word_count</th>\n",
       "      <th>char_count</th>\n",
       "      <th>stopwords</th>\n",
       "      <th>hashtag</th>\n",
       "      <th>tweet_clean</th>\n",
       "    </tr>\n",
       "  </thead>\n",
       "  <tbody>\n",
       "    <tr>\n",
       "      <th>0</th>\n",
       "      <td>0</td>\n",
       "      <td>2022-04-27</td>\n",
       "      <td>1519235527324712960</td>\n",
       "      <td>‘Surging input costs are keeping #farmers awak...</td>\n",
       "      <td>17</td>\n",
       "      <td>139</td>\n",
       "      <td>2</td>\n",
       "      <td>3</td>\n",
       "      <td>‘surging input costs are keeping farmers awake...</td>\n",
       "    </tr>\n",
       "    <tr>\n",
       "      <th>1</th>\n",
       "      <td>1</td>\n",
       "      <td>2022-04-02</td>\n",
       "      <td>1510305024081117190</td>\n",
       "      <td>@jerwaugh @youngsiward Would you not agree tha...</td>\n",
       "      <td>44</td>\n",
       "      <td>259</td>\n",
       "      <td>20</td>\n",
       "      <td>0</td>\n",
       "      <td>would you not agree that if you owned a wind...</td>\n",
       "    </tr>\n",
       "    <tr>\n",
       "      <th>2</th>\n",
       "      <td>2</td>\n",
       "      <td>2022-02-27</td>\n",
       "      <td>1497968564069879813</td>\n",
       "      <td>@libraryturner @lidl_ireland Don’t get used to...</td>\n",
       "      <td>28</td>\n",
       "      <td>169</td>\n",
       "      <td>9</td>\n",
       "      <td>0</td>\n",
       "      <td>don’t get used to it costs are rising to muc...</td>\n",
       "    </tr>\n",
       "  </tbody>\n",
       "</table>\n",
       "</div>"
      ],
      "text/plain": [
       "   Unnamed: 0   Datetime             Tweet Id  \\\n",
       "0           0 2022-04-27  1519235527324712960   \n",
       "1           1 2022-04-02  1510305024081117190   \n",
       "2           2 2022-02-27  1497968564069879813   \n",
       "\n",
       "                                                Text  word_count  char_count  \\\n",
       "0  ‘Surging input costs are keeping #farmers awak...          17         139   \n",
       "1  @jerwaugh @youngsiward Would you not agree tha...          44         259   \n",
       "2  @libraryturner @lidl_ireland Don’t get used to...          28         169   \n",
       "\n",
       "   stopwords  hashtag                                        tweet_clean  \n",
       "0          2        3  ‘surging input costs are keeping farmers awake...  \n",
       "1         20        0    would you not agree that if you owned a wind...  \n",
       "2          9        0    don’t get used to it costs are rising to muc...  "
      ]
     },
     "execution_count": 23,
     "metadata": {},
     "output_type": "execute_result"
    }
   ],
   "source": [
    "# Let's take a look at the updated text\n",
    "df_tweets['tweet_clean'] = df_tweets.Text.apply(round1)\n",
    "df_tweets"
   ]
  },
  {
   "cell_type": "code",
   "execution_count": 24,
   "id": "5d4829d3",
   "metadata": {},
   "outputs": [],
   "source": [
    "#removing stop words from tweet clean\n",
    "df_tweets[\"tweet_clean\"]= df_tweets[\"tweet_clean\"].apply(lambda x : \" \".join(x for x in x.split() if x not in stop))"
   ]
  },
  {
   "cell_type": "markdown",
   "id": "510a1bdf",
   "metadata": {},
   "source": [
    "### Sentiment Analysis with TextBlob"
   ]
  },
  {
   "cell_type": "code",
   "execution_count": 25,
   "id": "33e9e94e",
   "metadata": {},
   "outputs": [
    {
     "data": {
      "text/plain": [
       "0                                   (0.0, 0.0)\n",
       "1    (0.05333333333333334, 0.6133333333333334)\n",
       "2                                   (0.1, 0.6)\n",
       "Name: tweet_clean, dtype: object"
      ]
     },
     "execution_count": 25,
     "metadata": {},
     "output_type": "execute_result"
    }
   ],
   "source": [
    "##semantic analysis\n",
    "from textblob import TextBlob\n",
    "df_tweets[\"tweet_clean\"][:5].apply(lambda x : TextBlob(x).sentiment)\n",
    "\n",
    "#   (-0.5, 1.0)\n",
    "# sentiment of being negative because of the -, subjective"
   ]
  },
  {
   "cell_type": "code",
   "execution_count": 26,
   "id": "cc32fd01",
   "metadata": {},
   "outputs": [],
   "source": [
    "df_tweets[\"polarity\"]= df_tweets[\"tweet_clean\"].apply(lambda x : TextBlob(x).sentiment[0])\n",
    "\n",
    "#   (-0.5, 1.0)\n",
    "# sentiment of being negative because of the -, subjective"
   ]
  },
  {
   "cell_type": "code",
   "execution_count": 27,
   "id": "fbd0341f",
   "metadata": {},
   "outputs": [],
   "source": [
    "df_tweets[\"subjectivity\"]= df_tweets[\"tweet_clean\"].apply(lambda x : TextBlob(x).sentiment[1])"
   ]
  },
  {
   "cell_type": "code",
   "execution_count": 28,
   "id": "8e71cfcb",
   "metadata": {},
   "outputs": [
    {
     "data": {
      "text/html": [
       "<div>\n",
       "<style scoped>\n",
       "    .dataframe tbody tr th:only-of-type {\n",
       "        vertical-align: middle;\n",
       "    }\n",
       "\n",
       "    .dataframe tbody tr th {\n",
       "        vertical-align: top;\n",
       "    }\n",
       "\n",
       "    .dataframe thead th {\n",
       "        text-align: right;\n",
       "    }\n",
       "</style>\n",
       "<table border=\"1\" class=\"dataframe\">\n",
       "  <thead>\n",
       "    <tr style=\"text-align: right;\">\n",
       "      <th></th>\n",
       "      <th>Unnamed: 0</th>\n",
       "      <th>Datetime</th>\n",
       "      <th>Tweet Id</th>\n",
       "      <th>Text</th>\n",
       "      <th>word_count</th>\n",
       "      <th>char_count</th>\n",
       "      <th>stopwords</th>\n",
       "      <th>hashtag</th>\n",
       "      <th>tweet_clean</th>\n",
       "      <th>polarity</th>\n",
       "      <th>subjectivity</th>\n",
       "    </tr>\n",
       "  </thead>\n",
       "  <tbody>\n",
       "    <tr>\n",
       "      <th>0</th>\n",
       "      <td>0</td>\n",
       "      <td>2022-04-27</td>\n",
       "      <td>1519235527324712960</td>\n",
       "      <td>‘Surging input costs are keeping #farmers awak...</td>\n",
       "      <td>17</td>\n",
       "      <td>139</td>\n",
       "      <td>2</td>\n",
       "      <td>3</td>\n",
       "      <td>‘surging input costs keeping farmers awake nig...</td>\n",
       "      <td>0.000000</td>\n",
       "      <td>0.000000</td>\n",
       "    </tr>\n",
       "    <tr>\n",
       "      <th>1</th>\n",
       "      <td>1</td>\n",
       "      <td>2022-04-02</td>\n",
       "      <td>1510305024081117190</td>\n",
       "      <td>@jerwaugh @youngsiward Would you not agree tha...</td>\n",
       "      <td>44</td>\n",
       "      <td>259</td>\n",
       "      <td>20</td>\n",
       "      <td>0</td>\n",
       "      <td>would agree owned wind farm ccgt would making ...</td>\n",
       "      <td>0.053333</td>\n",
       "      <td>0.613333</td>\n",
       "    </tr>\n",
       "    <tr>\n",
       "      <th>2</th>\n",
       "      <td>2</td>\n",
       "      <td>2022-02-27</td>\n",
       "      <td>1497968564069879813</td>\n",
       "      <td>@libraryturner @lidl_ireland Don’t get used to...</td>\n",
       "      <td>28</td>\n",
       "      <td>169</td>\n",
       "      <td>9</td>\n",
       "      <td>0</td>\n",
       "      <td>don’t get used costs rising much farm level it...</td>\n",
       "      <td>0.100000</td>\n",
       "      <td>0.600000</td>\n",
       "    </tr>\n",
       "  </tbody>\n",
       "</table>\n",
       "</div>"
      ],
      "text/plain": [
       "   Unnamed: 0   Datetime             Tweet Id  \\\n",
       "0           0 2022-04-27  1519235527324712960   \n",
       "1           1 2022-04-02  1510305024081117190   \n",
       "2           2 2022-02-27  1497968564069879813   \n",
       "\n",
       "                                                Text  word_count  char_count  \\\n",
       "0  ‘Surging input costs are keeping #farmers awak...          17         139   \n",
       "1  @jerwaugh @youngsiward Would you not agree tha...          44         259   \n",
       "2  @libraryturner @lidl_ireland Don’t get used to...          28         169   \n",
       "\n",
       "   stopwords  hashtag                                        tweet_clean  \\\n",
       "0          2        3  ‘surging input costs keeping farmers awake nig...   \n",
       "1         20        0  would agree owned wind farm ccgt would making ...   \n",
       "2          9        0  don’t get used costs rising much farm level it...   \n",
       "\n",
       "   polarity  subjectivity  \n",
       "0  0.000000      0.000000  \n",
       "1  0.053333      0.613333  \n",
       "2  0.100000      0.600000  "
      ]
     },
     "execution_count": 28,
     "metadata": {},
     "output_type": "execute_result"
    }
   ],
   "source": [
    "df_tweets"
   ]
  },
  {
   "cell_type": "code",
   "execution_count": 29,
   "id": "76f3f631",
   "metadata": {},
   "outputs": [
    {
     "data": {
      "image/png": "[encoded data removed]",
      "text/plain": [
       "<Figure size 1440x360 with 1 Axes>"
      ]
     },
     "metadata": {
      "image/png": {
       "height": 343,
       "width": 1173
      }
     },
     "output_type": "display_data"
    }
   ],
   "source": [
    "#set to seaborn\n",
    "sns.set()\n",
    "#palette\n",
    "sns.set_palette('rainbow');\n",
    "#plot size\n",
    "plt.figure(figsize=(20, 5));  \n",
    "\n",
    "sns.scatterplot(data=df_tweets, x=\"polarity\", y=\"subjectivity\")\n",
    "\n",
    "plt.title(\"Sentiment Analysis of tweets 2022\", fontsize=20);\n",
    "plt.xlabel('<-- Negative ----polarity---- Positive -->', fontsize=15);\n",
    "plt.ylabel('<-- Facts ----subjectivity---- Opinions -->', fontsize=15);\n",
    "\n",
    "plt.show();"
   ]
  },
  {
   "cell_type": "markdown",
   "id": "901e3d00",
   "metadata": {},
   "source": [
    "### Document term matrix\n",
    "\n",
    "https://analyticsindiamag.com/a-guide-to-term-document-matrix-with-its-implementation-in-r-and-python/"
   ]
  },
  {
   "cell_type": "code",
   "execution_count": 30,
   "id": "82044bed",
   "metadata": {},
   "outputs": [
    {
     "data": {
      "text/html": [
       "<div>\n",
       "<style scoped>\n",
       "    .dataframe tbody tr th:only-of-type {\n",
       "        vertical-align: middle;\n",
       "    }\n",
       "\n",
       "    .dataframe tbody tr th {\n",
       "        vertical-align: top;\n",
       "    }\n",
       "\n",
       "    .dataframe thead th {\n",
       "        text-align: right;\n",
       "    }\n",
       "</style>\n",
       "<table border=\"1\" class=\"dataframe\">\n",
       "  <thead>\n",
       "    <tr style=\"text-align: right;\">\n",
       "      <th></th>\n",
       "      <th>agree</th>\n",
       "      <th>agribusiness</th>\n",
       "      <th>awake</th>\n",
       "      <th>bear</th>\n",
       "      <th>ccgt</th>\n",
       "      <th>consumers</th>\n",
       "      <th>cost</th>\n",
       "      <th>costs</th>\n",
       "      <th>don</th>\n",
       "      <th>electricity</th>\n",
       "      <th>...</th>\n",
       "      <th>profits</th>\n",
       "      <th>report</th>\n",
       "      <th>rise</th>\n",
       "      <th>rising</th>\n",
       "      <th>store</th>\n",
       "      <th>superprofits</th>\n",
       "      <th>surging</th>\n",
       "      <th>used</th>\n",
       "      <th>wholesale</th>\n",
       "      <th>wind</th>\n",
       "    </tr>\n",
       "  </thead>\n",
       "  <tbody>\n",
       "    <tr>\n",
       "      <th>0</th>\n",
       "      <td>0</td>\n",
       "      <td>1</td>\n",
       "      <td>1</td>\n",
       "      <td>0</td>\n",
       "      <td>0</td>\n",
       "      <td>0</td>\n",
       "      <td>0</td>\n",
       "      <td>1</td>\n",
       "      <td>0</td>\n",
       "      <td>0</td>\n",
       "      <td>...</td>\n",
       "      <td>0</td>\n",
       "      <td>1</td>\n",
       "      <td>0</td>\n",
       "      <td>0</td>\n",
       "      <td>0</td>\n",
       "      <td>0</td>\n",
       "      <td>1</td>\n",
       "      <td>0</td>\n",
       "      <td>0</td>\n",
       "      <td>0</td>\n",
       "    </tr>\n",
       "    <tr>\n",
       "      <th>1</th>\n",
       "      <td>1</td>\n",
       "      <td>0</td>\n",
       "      <td>0</td>\n",
       "      <td>1</td>\n",
       "      <td>1</td>\n",
       "      <td>1</td>\n",
       "      <td>1</td>\n",
       "      <td>1</td>\n",
       "      <td>0</td>\n",
       "      <td>1</td>\n",
       "      <td>...</td>\n",
       "      <td>1</td>\n",
       "      <td>0</td>\n",
       "      <td>0</td>\n",
       "      <td>0</td>\n",
       "      <td>0</td>\n",
       "      <td>1</td>\n",
       "      <td>0</td>\n",
       "      <td>0</td>\n",
       "      <td>1</td>\n",
       "      <td>1</td>\n",
       "    </tr>\n",
       "    <tr>\n",
       "      <th>2</th>\n",
       "      <td>0</td>\n",
       "      <td>0</td>\n",
       "      <td>0</td>\n",
       "      <td>0</td>\n",
       "      <td>0</td>\n",
       "      <td>0</td>\n",
       "      <td>0</td>\n",
       "      <td>1</td>\n",
       "      <td>1</td>\n",
       "      <td>0</td>\n",
       "      <td>...</td>\n",
       "      <td>0</td>\n",
       "      <td>0</td>\n",
       "      <td>1</td>\n",
       "      <td>1</td>\n",
       "      <td>1</td>\n",
       "      <td>0</td>\n",
       "      <td>0</td>\n",
       "      <td>1</td>\n",
       "      <td>0</td>\n",
       "      <td>0</td>\n",
       "    </tr>\n",
       "  </tbody>\n",
       "</table>\n",
       "<p>3 rows × 37 columns</p>\n",
       "</div>"
      ],
      "text/plain": [
       "   agree  agribusiness  awake  bear  ccgt  consumers  cost  costs  don  \\\n",
       "0      0             1      1     0     0          0     0      1    0   \n",
       "1      1             0      0     1     1          1     1      1    0   \n",
       "2      0             0      0     0     0          0     0      1    1   \n",
       "\n",
       "   electricity  ...  profits  report  rise  rising  store  superprofits  \\\n",
       "0            0  ...        0       1     0       0      0             0   \n",
       "1            1  ...        1       0     0       0      0             1   \n",
       "2            0  ...        0       0     1       1      1             0   \n",
       "\n",
       "   surging  used  wholesale  wind  \n",
       "0        1     0          0     0  \n",
       "1        0     0          1     1  \n",
       "2        0     1          0     0  \n",
       "\n",
       "[3 rows x 37 columns]"
      ]
     },
     "execution_count": 30,
     "metadata": {},
     "output_type": "execute_result"
    }
   ],
   "source": [
    "# We are going to create a document-term matrix using CountVectorizer, and exclude common English stop words\n",
    "\n",
    "from sklearn.feature_extraction.text import CountVectorizer\n",
    "\n",
    "cv = CountVectorizer(stop_words=\"english\")\n",
    "data_cv = cv.fit_transform(df_tweets['tweet_clean'])\n",
    "data_dtm =pd.DataFrame(data_cv.toarray(), columns=cv.get_feature_names())\n",
    "\n",
    "# Pickle it for later use\n",
    "import pickle\n",
    "pickle.dump(cv, open(\"../data/cv_stop.pkl\", \"wb\"))\n",
    "\n",
    "data_dtm"
   ]
  },
  {
   "cell_type": "code",
   "execution_count": 31,
   "id": "813a3cd9",
   "metadata": {},
   "outputs": [],
   "source": [
    "#Gensism Python framework for fast Vector Space Modelling\n",
    "from gensim import matutils, models\n",
    "#ndustrial-strength Natural Language Processing (NLP) in Python\n",
    "import scipy.sparse"
   ]
  },
  {
   "cell_type": "markdown",
   "id": "648ec8f0",
   "metadata": {},
   "source": [
    "### Topic modelling"
   ]
  },
  {
   "cell_type": "code",
   "execution_count": 32,
   "id": "9487f6ae",
   "metadata": {},
   "outputs": [
    {
     "data": {
      "text/html": [
       "<div>\n",
       "<style scoped>\n",
       "    .dataframe tbody tr th:only-of-type {\n",
       "        vertical-align: middle;\n",
       "    }\n",
       "\n",
       "    .dataframe tbody tr th {\n",
       "        vertical-align: top;\n",
       "    }\n",
       "\n",
       "    .dataframe thead th {\n",
       "        text-align: right;\n",
       "    }\n",
       "</style>\n",
       "<table border=\"1\" class=\"dataframe\">\n",
       "  <thead>\n",
       "    <tr style=\"text-align: right;\">\n",
       "      <th></th>\n",
       "      <th>0</th>\n",
       "      <th>1</th>\n",
       "      <th>2</th>\n",
       "    </tr>\n",
       "  </thead>\n",
       "  <tbody>\n",
       "    <tr>\n",
       "      <th>agree</th>\n",
       "      <td>0</td>\n",
       "      <td>1</td>\n",
       "      <td>0</td>\n",
       "    </tr>\n",
       "    <tr>\n",
       "      <th>agribusiness</th>\n",
       "      <td>1</td>\n",
       "      <td>0</td>\n",
       "      <td>0</td>\n",
       "    </tr>\n",
       "    <tr>\n",
       "      <th>awake</th>\n",
       "      <td>1</td>\n",
       "      <td>0</td>\n",
       "      <td>0</td>\n",
       "    </tr>\n",
       "    <tr>\n",
       "      <th>bear</th>\n",
       "      <td>0</td>\n",
       "      <td>1</td>\n",
       "      <td>0</td>\n",
       "    </tr>\n",
       "    <tr>\n",
       "      <th>ccgt</th>\n",
       "      <td>0</td>\n",
       "      <td>1</td>\n",
       "      <td>0</td>\n",
       "    </tr>\n",
       "  </tbody>\n",
       "</table>\n",
       "</div>"
      ],
      "text/plain": [
       "              0  1  2\n",
       "agree         0  1  0\n",
       "agribusiness  1  0  0\n",
       "awake         1  0  0\n",
       "bear          0  1  0\n",
       "ccgt          0  1  0"
      ]
     },
     "execution_count": 32,
     "metadata": {},
     "output_type": "execute_result"
    }
   ],
   "source": [
    "# One of the required inputs is a term-document matrix\n",
    "data_dtm = data_dtm.transpose()\n",
    "data_dtm.head()"
   ]
  },
  {
   "cell_type": "code",
   "execution_count": 33,
   "id": "32340319",
   "metadata": {},
   "outputs": [],
   "source": [
    "# turn term matrix into a sparse matrix\n",
    "sparse_counts = scipy.sparse.csr_matrix(data_dtm)\n",
    "corpus = matutils.Sparse2Corpus(sparse_counts)"
   ]
  },
  {
   "cell_type": "code",
   "execution_count": 34,
   "id": "eaed897e",
   "metadata": {},
   "outputs": [],
   "source": [
    "# Gensim also requires dictionary of the all terms and their respective location in the term-document matrix\n",
    "#cv = pickle.load(open(\"../data/cv_stop.pkl\", \"rb\"))"
   ]
  },
  {
   "cell_type": "code",
   "execution_count": 35,
   "id": "123e6ae5",
   "metadata": {},
   "outputs": [],
   "source": [
    "id2word = dict((v, k) for k, v in cv.vocabulary_.items())"
   ]
  },
  {
   "cell_type": "code",
   "execution_count": 36,
   "id": "72962dd8",
   "metadata": {},
   "outputs": [
    {
     "data": {
      "text/plain": [
       "[(0,\n",
       "  '0.051*\"costs\" + 0.051*\"farm\" + 0.030*\"production\" + 0.030*\"consumers\" + 0.030*\"agree\" + 0.030*\"electricity\" + 0.030*\"wind\" + 0.030*\"profits\" + 0.030*\"ccgt\" + 0.030*\"making\"'),\n",
       " (1,\n",
       "  '0.051*\"prices\" + 0.051*\"farm\" + 0.051*\"costs\" + 0.051*\"inevitable\" + 0.051*\"store\" + 0.051*\"know\" + 0.051*\"used\" + 0.051*\"level\" + 0.051*\"rise\" + 0.051*\"rising\"')]"
      ]
     },
     "execution_count": 36,
     "metadata": {},
     "output_type": "execute_result"
    }
   ],
   "source": [
    "lda = models.LdaModel(corpus=corpus, id2word=id2word, num_topics=2, passes=10)\n",
    "lda.print_topics()"
   ]
  },
  {
   "cell_type": "code",
   "execution_count": 37,
   "id": "f23b1995",
   "metadata": {},
   "outputs": [
    {
     "data": {
      "text/plain": [
       "[(0,\n",
       "  '0.055*\"farm\" + 0.055*\"costs\" + 0.055*\"surging\" + 0.055*\"farmers\" + 0.055*\"agribusiness\" + 0.055*\"report\" + 0.055*\"awake\" + 0.055*\"ifac\" + 0.055*\"night\" + 0.055*\"input\"'),\n",
       " (1,\n",
       "  '0.055*\"prices\" + 0.055*\"costs\" + 0.055*\"farm\" + 0.032*\"inevitable\" + 0.032*\"rise\" + 0.032*\"used\" + 0.032*\"know\" + 0.032*\"don\" + 0.032*\"level\" + 0.032*\"store\"'),\n",
       " (2,\n",
       "  '0.027*\"costs\" + 0.027*\"keeping\" + 0.027*\"irish\" + 0.027*\"input\" + 0.027*\"night\" + 0.027*\"ifac\" + 0.027*\"awake\" + 0.027*\"report\" + 0.027*\"farm\" + 0.027*\"agribusiness\"')]"
      ]
     },
     "execution_count": 37,
     "metadata": {},
     "output_type": "execute_result"
    }
   ],
   "source": [
    "lda = models.LdaModel(corpus=corpus, id2word=id2word, num_topics=3, passes=10)\n",
    "lda.print_topics()"
   ]
  },
  {
   "cell_type": "code",
   "execution_count": 38,
   "id": "ed5478d0",
   "metadata": {},
   "outputs": [
    {
     "data": {
      "text/plain": [
       "[(0,\n",
       "  '0.027*\"high\" + 0.027*\"profits\" + 0.027*\"massive\" + 0.027*\"making\" + 0.027*\"low\" + 0.027*\"cost\" + 0.027*\"bear\" + 0.027*\"wind\" + 0.027*\"electricity\" + 0.027*\"wholesale\"'),\n",
       " (1,\n",
       "  '0.027*\"costs\" + 0.027*\"farm\" + 0.027*\"rising\" + 0.027*\"don\" + 0.027*\"store\" + 0.027*\"know\" + 0.027*\"used\" + 0.027*\"rise\" + 0.027*\"level\" + 0.027*\"inevitable\"'),\n",
       " (2,\n",
       "  '0.057*\"prices\" + 0.057*\"costs\" + 0.057*\"farm\" + 0.032*\"rise\" + 0.032*\"know\" + 0.032*\"level\" + 0.032*\"don\" + 0.032*\"inevitable\" + 0.032*\"store\" + 0.032*\"used\"'),\n",
       " (3,\n",
       "  '0.059*\"farm\" + 0.059*\"costs\" + 0.059*\"input\" + 0.059*\"report\" + 0.059*\"ifac\" + 0.059*\"surging\" + 0.059*\"farmers\" + 0.059*\"irish\" + 0.059*\"keeping\" + 0.059*\"agribusiness\"')]"
      ]
     },
     "execution_count": 38,
     "metadata": {},
     "output_type": "execute_result"
    }
   ],
   "source": [
    "# LDA for num_topics = 4\n",
    "lda = models.LdaModel(corpus=corpus, id2word=id2word, num_topics=4, passes=10)\n",
    "lda.print_topics()"
   ]
  },
  {
   "cell_type": "markdown",
   "id": "8f98fc26",
   "metadata": {},
   "source": [
    "### Topic Modeling - Attempt #2 (Nouns Only)"
   ]
  },
  {
   "cell_type": "code",
   "execution_count": 39,
   "id": "91fefeab",
   "metadata": {},
   "outputs": [],
   "source": [
    "# Let's create a function to pull out nouns from a string of text\n",
    "from nltk import word_tokenize, pos_tag\n",
    "\n",
    "def nouns(text):\n",
    "    '''Given a string of text, tokenize the text and pull out only the nouns.'''\n",
    "    is_noun = lambda pos: pos[:2] == 'NN'\n",
    "    tokenized = word_tokenize(text)\n",
    "    all_nouns = [word for (word, pos) in pos_tag(tokenized) if is_noun(pos)] \n",
    "    return ' '.join(all_nouns)"
   ]
  },
  {
   "cell_type": "code",
   "execution_count": 40,
   "id": "6ef17e3c",
   "metadata": {},
   "outputs": [
    {
     "data": {
      "text/html": [
       "<div>\n",
       "<style scoped>\n",
       "    .dataframe tbody tr th:only-of-type {\n",
       "        vertical-align: middle;\n",
       "    }\n",
       "\n",
       "    .dataframe tbody tr th {\n",
       "        vertical-align: top;\n",
       "    }\n",
       "\n",
       "    .dataframe thead th {\n",
       "        text-align: right;\n",
       "    }\n",
       "</style>\n",
       "<table border=\"1\" class=\"dataframe\">\n",
       "  <thead>\n",
       "    <tr style=\"text-align: right;\">\n",
       "      <th></th>\n",
       "      <th>Unnamed: 0</th>\n",
       "      <th>Datetime</th>\n",
       "      <th>Tweet Id</th>\n",
       "      <th>Text</th>\n",
       "      <th>word_count</th>\n",
       "      <th>char_count</th>\n",
       "      <th>stopwords</th>\n",
       "      <th>hashtag</th>\n",
       "      <th>tweet_clean</th>\n",
       "      <th>polarity</th>\n",
       "      <th>subjectivity</th>\n",
       "      <th>data_nouns</th>\n",
       "    </tr>\n",
       "  </thead>\n",
       "  <tbody>\n",
       "    <tr>\n",
       "      <th>0</th>\n",
       "      <td>0</td>\n",
       "      <td>2022-04-27</td>\n",
       "      <td>1519235527324712960</td>\n",
       "      <td>‘Surging input costs are keeping #farmers awak...</td>\n",
       "      <td>17</td>\n",
       "      <td>139</td>\n",
       "      <td>2</td>\n",
       "      <td>3</td>\n",
       "      <td>‘surging input costs keeping farmers awake nig...</td>\n",
       "      <td>0.000000</td>\n",
       "      <td>0.000000</td>\n",
       "      <td>‘ input costs farmers night ’ ifac farm report...</td>\n",
       "    </tr>\n",
       "    <tr>\n",
       "      <th>1</th>\n",
       "      <td>1</td>\n",
       "      <td>2022-04-02</td>\n",
       "      <td>1510305024081117190</td>\n",
       "      <td>@jerwaugh @youngsiward Would you not agree tha...</td>\n",
       "      <td>44</td>\n",
       "      <td>259</td>\n",
       "      <td>20</td>\n",
       "      <td>0</td>\n",
       "      <td>would agree owned wind farm ccgt would making ...</td>\n",
       "      <td>0.053333</td>\n",
       "      <td>0.613333</td>\n",
       "      <td>farm ccgt profits prices production cost elect...</td>\n",
       "    </tr>\n",
       "    <tr>\n",
       "      <th>2</th>\n",
       "      <td>2</td>\n",
       "      <td>2022-02-27</td>\n",
       "      <td>1497968564069879813</td>\n",
       "      <td>@libraryturner @lidl_ireland Don’t get used to...</td>\n",
       "      <td>28</td>\n",
       "      <td>169</td>\n",
       "      <td>9</td>\n",
       "      <td>0</td>\n",
       "      <td>don’t get used costs rising much farm level it...</td>\n",
       "      <td>0.100000</td>\n",
       "      <td>0.600000</td>\n",
       "      <td>don ’ t costs farm level prices rise</td>\n",
       "    </tr>\n",
       "  </tbody>\n",
       "</table>\n",
       "</div>"
      ],
      "text/plain": [
       "   Unnamed: 0   Datetime             Tweet Id  \\\n",
       "0           0 2022-04-27  1519235527324712960   \n",
       "1           1 2022-04-02  1510305024081117190   \n",
       "2           2 2022-02-27  1497968564069879813   \n",
       "\n",
       "                                                Text  word_count  char_count  \\\n",
       "0  ‘Surging input costs are keeping #farmers awak...          17         139   \n",
       "1  @jerwaugh @youngsiward Would you not agree tha...          44         259   \n",
       "2  @libraryturner @lidl_ireland Don’t get used to...          28         169   \n",
       "\n",
       "   stopwords  hashtag                                        tweet_clean  \\\n",
       "0          2        3  ‘surging input costs keeping farmers awake nig...   \n",
       "1         20        0  would agree owned wind farm ccgt would making ...   \n",
       "2          9        0  don’t get used costs rising much farm level it...   \n",
       "\n",
       "   polarity  subjectivity                                         data_nouns  \n",
       "0  0.000000      0.000000  ‘ input costs farmers night ’ ifac farm report...  \n",
       "1  0.053333      0.613333  farm ccgt profits prices production cost elect...  \n",
       "2  0.100000      0.600000               don ’ t costs farm level prices rise  "
      ]
     },
     "execution_count": 40,
     "metadata": {},
     "output_type": "execute_result"
    }
   ],
   "source": [
    "# Apply the nouns function to the transcripts to filter only on nouns\n",
    "df_tweets['data_nouns'] = pd.DataFrame(df_tweets.tweet_clean.apply(nouns))\n",
    "df_tweets"
   ]
  },
  {
   "cell_type": "code",
   "execution_count": 41,
   "id": "a512d8b6",
   "metadata": {},
   "outputs": [
    {
     "data": {
      "text/plain": [
       "0    ‘ input costs farmers night ’ ifac farm report...\n",
       "1    farm ccgt profits prices production cost elect...\n",
       "2                 don ’ t costs farm level prices rise\n",
       "Name: data_nouns, dtype: object"
      ]
     },
     "execution_count": 41,
     "metadata": {},
     "output_type": "execute_result"
    }
   ],
   "source": [
    "df_tweets.data_nouns"
   ]
  },
  {
   "cell_type": "code",
   "execution_count": 44,
   "id": "29b18707",
   "metadata": {},
   "outputs": [
    {
     "data": {
      "text/html": [
       "<div>\n",
       "<style scoped>\n",
       "    .dataframe tbody tr th:only-of-type {\n",
       "        vertical-align: middle;\n",
       "    }\n",
       "\n",
       "    .dataframe tbody tr th {\n",
       "        vertical-align: top;\n",
       "    }\n",
       "\n",
       "    .dataframe thead th {\n",
       "        text-align: right;\n",
       "    }\n",
       "</style>\n",
       "<table border=\"1\" class=\"dataframe\">\n",
       "  <thead>\n",
       "    <tr style=\"text-align: right;\">\n",
       "      <th></th>\n",
       "      <th>agribusiness</th>\n",
       "      <th>ccgt</th>\n",
       "      <th>consumers</th>\n",
       "      <th>cost</th>\n",
       "      <th>costs</th>\n",
       "      <th>don</th>\n",
       "      <th>electricity</th>\n",
       "      <th>farm</th>\n",
       "      <th>farmers</th>\n",
       "      <th>ifac</th>\n",
       "      <th>input</th>\n",
       "      <th>level</th>\n",
       "      <th>night</th>\n",
       "      <th>prices</th>\n",
       "      <th>production</th>\n",
       "      <th>profits</th>\n",
       "      <th>report</th>\n",
       "      <th>rise</th>\n",
       "      <th>superprofits</th>\n",
       "    </tr>\n",
       "  </thead>\n",
       "  <tbody>\n",
       "    <tr>\n",
       "      <th>0</th>\n",
       "      <td>1</td>\n",
       "      <td>0</td>\n",
       "      <td>0</td>\n",
       "      <td>0</td>\n",
       "      <td>1</td>\n",
       "      <td>0</td>\n",
       "      <td>0</td>\n",
       "      <td>1</td>\n",
       "      <td>1</td>\n",
       "      <td>1</td>\n",
       "      <td>1</td>\n",
       "      <td>0</td>\n",
       "      <td>1</td>\n",
       "      <td>0</td>\n",
       "      <td>0</td>\n",
       "      <td>0</td>\n",
       "      <td>1</td>\n",
       "      <td>0</td>\n",
       "      <td>0</td>\n",
       "    </tr>\n",
       "    <tr>\n",
       "      <th>1</th>\n",
       "      <td>0</td>\n",
       "      <td>1</td>\n",
       "      <td>1</td>\n",
       "      <td>1</td>\n",
       "      <td>1</td>\n",
       "      <td>0</td>\n",
       "      <td>1</td>\n",
       "      <td>1</td>\n",
       "      <td>0</td>\n",
       "      <td>0</td>\n",
       "      <td>0</td>\n",
       "      <td>0</td>\n",
       "      <td>0</td>\n",
       "      <td>1</td>\n",
       "      <td>1</td>\n",
       "      <td>1</td>\n",
       "      <td>0</td>\n",
       "      <td>0</td>\n",
       "      <td>1</td>\n",
       "    </tr>\n",
       "    <tr>\n",
       "      <th>2</th>\n",
       "      <td>0</td>\n",
       "      <td>0</td>\n",
       "      <td>0</td>\n",
       "      <td>0</td>\n",
       "      <td>1</td>\n",
       "      <td>1</td>\n",
       "      <td>0</td>\n",
       "      <td>1</td>\n",
       "      <td>0</td>\n",
       "      <td>0</td>\n",
       "      <td>0</td>\n",
       "      <td>1</td>\n",
       "      <td>0</td>\n",
       "      <td>1</td>\n",
       "      <td>0</td>\n",
       "      <td>0</td>\n",
       "      <td>0</td>\n",
       "      <td>1</td>\n",
       "      <td>0</td>\n",
       "    </tr>\n",
       "  </tbody>\n",
       "</table>\n",
       "</div>"
      ],
      "text/plain": [
       "   agribusiness  ccgt  consumers  cost  costs  don  electricity  farm  \\\n",
       "0             1     0          0     0      1    0            0     1   \n",
       "1             0     1          1     1      1    0            1     1   \n",
       "2             0     0          0     0      1    1            0     1   \n",
       "\n",
       "   farmers  ifac  input  level  night  prices  production  profits  report  \\\n",
       "0        1     1      1      0      1       0           0        0       1   \n",
       "1        0     0      0      0      0       1           1        1       0   \n",
       "2        0     0      0      1      0       1           0        0       0   \n",
       "\n",
       "   rise  superprofits  \n",
       "0     0             0  \n",
       "1     0             1  \n",
       "2     1             0  "
      ]
     },
     "execution_count": 44,
     "metadata": {},
     "output_type": "execute_result"
    }
   ],
   "source": [
    "# Create a new document-term matrix using only nouns\n",
    "from sklearn.feature_extraction import text\n",
    "from sklearn.feature_extraction.text import CountVectorizer\n",
    "\n",
    "# Re-add the additional stop words since we are recreating the document-term matrix\n",
    "add_stop_words = ['like', 'im', 'know', 'just', 'dont', 'thats', 'right', 'people',\n",
    "                  'youre', 'got', 'gonna', 'time', 'think', 'yeah', 'said', 'amp']\n",
    "stop_words = text.ENGLISH_STOP_WORDS.union(add_stop_words)\n",
    "\n",
    "# Recreate a document-term matrix with only nouns\n",
    "cvn = CountVectorizer(stop_words=stop_words)\n",
    "data_cvn = cvn.fit_transform(df_tweets.data_nouns)\n",
    "data_dtmn = pd.DataFrame(data_cvn.toarray(), columns=cvn.get_feature_names())\n",
    "\n",
    "data_dtmn"
   ]
  },
  {
   "cell_type": "code",
   "execution_count": 45,
   "id": "9a7817b4",
   "metadata": {},
   "outputs": [],
   "source": [
    "# Create the gensim corpus\n",
    "corpusn = matutils.Sparse2Corpus(scipy.sparse.csr_matrix(data_dtmn.transpose()))\n",
    "\n",
    "# Create the vocabulary dictionary\n",
    "id2wordn = dict((v, k) for k, v in cvn.vocabulary_.items())"
   ]
  },
  {
   "cell_type": "code",
   "execution_count": 46,
   "id": "4e53deee",
   "metadata": {},
   "outputs": [
    {
     "data": {
      "text/plain": [
       "[(0,\n",
       "  '0.098*\"prices\" + 0.098*\"costs\" + 0.098*\"farm\" + 0.059*\"ccgt\" + 0.059*\"production\" + 0.059*\"electricity\" + 0.059*\"profits\" + 0.059*\"cost\" + 0.059*\"consumers\" + 0.059*\"superprofits\"'),\n",
       " (1,\n",
       "  '0.086*\"farm\" + 0.086*\"costs\" + 0.085*\"agribusiness\" + 0.085*\"farmers\" + 0.085*\"ifac\" + 0.085*\"input\" + 0.085*\"night\" + 0.085*\"report\" + 0.029*\"rise\" + 0.029*\"don\"')]"
      ]
     },
     "execution_count": 46,
     "metadata": {},
     "output_type": "execute_result"
    }
   ],
   "source": [
    "# Let's start with 2 topics\n",
    "ldan = models.LdaModel(corpus=corpusn, num_topics=2, id2word=id2wordn, passes=10)\n",
    "ldan.print_topics()"
   ]
  },
  {
   "cell_type": "code",
   "execution_count": 47,
   "id": "2d424090",
   "metadata": {},
   "outputs": [
    {
     "data": {
      "text/plain": [
       "[(0,\n",
       "  '0.115*\"farm\" + 0.115*\"costs\" + 0.066*\"ifac\" + 0.066*\"agribusiness\" + 0.066*\"night\" + 0.066*\"input\" + 0.066*\"farmers\" + 0.066*\"report\" + 0.066*\"don\" + 0.066*\"rise\"'),\n",
       " (1,\n",
       "  '0.082*\"prices\" + 0.082*\"costs\" + 0.082*\"farm\" + 0.082*\"production\" + 0.082*\"electricity\" + 0.082*\"consumers\" + 0.082*\"cost\" + 0.082*\"profits\" + 0.082*\"superprofits\" + 0.082*\"ccgt\"'),\n",
       " (2,\n",
       "  '0.053*\"prices\" + 0.053*\"farm\" + 0.053*\"costs\" + 0.053*\"level\" + 0.053*\"rise\" + 0.053*\"don\" + 0.053*\"report\" + 0.053*\"farmers\" + 0.053*\"agribusiness\" + 0.053*\"input\"')]"
      ]
     },
     "execution_count": 47,
     "metadata": {},
     "output_type": "execute_result"
    }
   ],
   "source": [
    "# Let's try topics = 3\n",
    "ldan = models.LdaModel(corpus=corpusn, num_topics=3, id2word=id2wordn, passes=10)\n",
    "ldan.print_topics()"
   ]
  },
  {
   "cell_type": "code",
   "execution_count": 48,
   "id": "9ae2cb28",
   "metadata": {},
   "outputs": [
    {
     "data": {
      "text/plain": [
       "[(0,\n",
       "  '0.085*\"prices\" + 0.085*\"consumers\" + 0.085*\"electricity\" + 0.085*\"production\" + 0.085*\"profits\" + 0.085*\"superprofits\" + 0.085*\"cost\" + 0.085*\"farm\" + 0.085*\"ccgt\" + 0.085*\"costs\"'),\n",
       " (1,\n",
       "  '0.053*\"prices\" + 0.053*\"costs\" + 0.053*\"farm\" + 0.053*\"level\" + 0.053*\"don\" + 0.053*\"rise\" + 0.053*\"farmers\" + 0.053*\"night\" + 0.053*\"agribusiness\" + 0.053*\"input\"'),\n",
       " (2,\n",
       "  '0.120*\"costs\" + 0.120*\"farm\" + 0.067*\"agribusiness\" + 0.067*\"input\" + 0.067*\"ifac\" + 0.067*\"report\" + 0.067*\"night\" + 0.067*\"farmers\" + 0.067*\"rise\" + 0.067*\"don\"'),\n",
       " (3,\n",
       "  '0.053*\"costs\" + 0.053*\"prices\" + 0.053*\"farm\" + 0.053*\"ccgt\" + 0.053*\"profits\" + 0.053*\"cost\" + 0.053*\"superprofits\" + 0.053*\"production\" + 0.053*\"electricity\" + 0.053*\"consumers\"')]"
      ]
     },
     "execution_count": 48,
     "metadata": {},
     "output_type": "execute_result"
    }
   ],
   "source": [
    "# Let's try 4 topics\n",
    "ldan = models.LdaModel(corpus=corpusn, num_topics=4, id2word=id2wordn, passes=10)\n",
    "ldan.print_topics()"
   ]
  },
  {
   "cell_type": "markdown",
   "id": "4a10322e",
   "metadata": {},
   "source": [
    "### Topic Modeling - Attempt #3 (Nouns and Adjectives)"
   ]
  },
  {
   "cell_type": "code",
   "execution_count": 50,
   "id": "7188cc2e",
   "metadata": {},
   "outputs": [],
   "source": [
    "# Let's create a function to pull out nouns from a string of text\n",
    "def nouns_adj(text):\n",
    "    '''Given a string of text, tokenize the text and pull out only the nouns and adjectives.'''\n",
    "    is_noun_adj = lambda pos: pos[:2] == 'NN' or pos[:2] == 'JJ'\n",
    "    tokenized = word_tokenize(text)\n",
    "    nouns_adj = [word for (word, pos) in pos_tag(tokenized) if is_noun_adj(pos)] \n",
    "    return ' '.join(nouns_adj)"
   ]
  },
  {
   "cell_type": "code",
   "execution_count": 51,
   "id": "575133ed",
   "metadata": {},
   "outputs": [],
   "source": [
    "# Apply the nouns function to the transcripts to filter only on nouns\n",
    "df_tweets['data_nouns_adj'] = pd.DataFrame(df_tweets.tweet_clean.apply(nouns_adj))"
   ]
  },
  {
   "cell_type": "code",
   "execution_count": 52,
   "id": "b681bb75",
   "metadata": {},
   "outputs": [
    {
     "data": {
      "text/html": [
       "<div>\n",
       "<style scoped>\n",
       "    .dataframe tbody tr th:only-of-type {\n",
       "        vertical-align: middle;\n",
       "    }\n",
       "\n",
       "    .dataframe tbody tr th {\n",
       "        vertical-align: top;\n",
       "    }\n",
       "\n",
       "    .dataframe thead th {\n",
       "        text-align: right;\n",
       "    }\n",
       "</style>\n",
       "<table border=\"1\" class=\"dataframe\">\n",
       "  <thead>\n",
       "    <tr style=\"text-align: right;\">\n",
       "      <th></th>\n",
       "      <th>agribusiness</th>\n",
       "      <th>ccgt</th>\n",
       "      <th>consumers</th>\n",
       "      <th>cost</th>\n",
       "      <th>don</th>\n",
       "      <th>electricity</th>\n",
       "      <th>farmers</th>\n",
       "      <th>high</th>\n",
       "      <th>ifac</th>\n",
       "      <th>inevitable</th>\n",
       "      <th>...</th>\n",
       "      <th>low</th>\n",
       "      <th>massive</th>\n",
       "      <th>night</th>\n",
       "      <th>prices</th>\n",
       "      <th>production</th>\n",
       "      <th>profits</th>\n",
       "      <th>report</th>\n",
       "      <th>rise</th>\n",
       "      <th>superprofits</th>\n",
       "      <th>wholesale</th>\n",
       "    </tr>\n",
       "  </thead>\n",
       "  <tbody>\n",
       "    <tr>\n",
       "      <th>0</th>\n",
       "      <td>1</td>\n",
       "      <td>0</td>\n",
       "      <td>0</td>\n",
       "      <td>0</td>\n",
       "      <td>0</td>\n",
       "      <td>0</td>\n",
       "      <td>1</td>\n",
       "      <td>0</td>\n",
       "      <td>1</td>\n",
       "      <td>0</td>\n",
       "      <td>...</td>\n",
       "      <td>0</td>\n",
       "      <td>0</td>\n",
       "      <td>1</td>\n",
       "      <td>0</td>\n",
       "      <td>0</td>\n",
       "      <td>0</td>\n",
       "      <td>1</td>\n",
       "      <td>0</td>\n",
       "      <td>0</td>\n",
       "      <td>0</td>\n",
       "    </tr>\n",
       "    <tr>\n",
       "      <th>1</th>\n",
       "      <td>0</td>\n",
       "      <td>1</td>\n",
       "      <td>1</td>\n",
       "      <td>1</td>\n",
       "      <td>0</td>\n",
       "      <td>1</td>\n",
       "      <td>0</td>\n",
       "      <td>1</td>\n",
       "      <td>0</td>\n",
       "      <td>0</td>\n",
       "      <td>...</td>\n",
       "      <td>1</td>\n",
       "      <td>1</td>\n",
       "      <td>0</td>\n",
       "      <td>1</td>\n",
       "      <td>1</td>\n",
       "      <td>1</td>\n",
       "      <td>0</td>\n",
       "      <td>0</td>\n",
       "      <td>1</td>\n",
       "      <td>1</td>\n",
       "    </tr>\n",
       "    <tr>\n",
       "      <th>2</th>\n",
       "      <td>0</td>\n",
       "      <td>0</td>\n",
       "      <td>0</td>\n",
       "      <td>0</td>\n",
       "      <td>1</td>\n",
       "      <td>0</td>\n",
       "      <td>0</td>\n",
       "      <td>0</td>\n",
       "      <td>0</td>\n",
       "      <td>1</td>\n",
       "      <td>...</td>\n",
       "      <td>0</td>\n",
       "      <td>0</td>\n",
       "      <td>0</td>\n",
       "      <td>1</td>\n",
       "      <td>0</td>\n",
       "      <td>0</td>\n",
       "      <td>0</td>\n",
       "      <td>1</td>\n",
       "      <td>0</td>\n",
       "      <td>0</td>\n",
       "    </tr>\n",
       "  </tbody>\n",
       "</table>\n",
       "<p>3 rows × 23 columns</p>\n",
       "</div>"
      ],
      "text/plain": [
       "   agribusiness  ccgt  consumers  cost  don  electricity  farmers  high  ifac  \\\n",
       "0             1     0          0     0    0            0        1     0     1   \n",
       "1             0     1          1     1    0            1        0     1     0   \n",
       "2             0     0          0     0    1            0        0     0     0   \n",
       "\n",
       "   inevitable  ...  low  massive  night  prices  production  profits  report  \\\n",
       "0           0  ...    0        0      1       0           0        0       1   \n",
       "1           0  ...    1        1      0       1           1        1       0   \n",
       "2           1  ...    0        0      0       1           0        0       0   \n",
       "\n",
       "   rise  superprofits  wholesale  \n",
       "0     0             0          0  \n",
       "1     0             1          1  \n",
       "2     1             0          0  \n",
       "\n",
       "[3 rows x 23 columns]"
      ]
     },
     "execution_count": 52,
     "metadata": {},
     "output_type": "execute_result"
    }
   ],
   "source": [
    "# Create a new document-term matrix using only nouns and adjectives, also remove common words with max_df\n",
    "cvna = CountVectorizer(stop_words=stop_words, max_df=.8)\n",
    "data_cvna = cvna.fit_transform(df_tweets.data_nouns_adj)\n",
    "data_dtmna = pd.DataFrame(data_cvna.toarray(), columns=cvna.get_feature_names())\n",
    "\n",
    "data_dtmna"
   ]
  },
  {
   "cell_type": "code",
   "execution_count": 53,
   "id": "67a56d25",
   "metadata": {},
   "outputs": [],
   "source": [
    "# Create the gensim corpus\n",
    "corpusna = matutils.Sparse2Corpus(scipy.sparse.csr_matrix(data_dtmna.transpose()))\n",
    "\n",
    "# Create the vocabulary dictionary\n",
    "id2wordna = dict((v, k) for k, v in cvna.vocabulary_.items())\n"
   ]
  },
  {
   "cell_type": "code",
   "execution_count": 54,
   "id": "6189aaa6",
   "metadata": {},
   "outputs": [
    {
     "data": {
      "text/plain": [
       "[(0,\n",
       "  '0.064*\"input\" + 0.064*\"report\" + 0.064*\"irish\" + 0.064*\"ifac\" + 0.064*\"night\" + 0.064*\"farmers\" + 0.064*\"agribusiness\" + 0.064*\"inevitable\" + 0.064*\"don\" + 0.064*\"rise\"'),\n",
       " (1,\n",
       "  '0.065*\"prices\" + 0.064*\"cost\" + 0.064*\"ccgt\" + 0.064*\"massive\" + 0.064*\"high\" + 0.064*\"profits\" + 0.064*\"electricity\" + 0.064*\"low\" + 0.064*\"wholesale\" + 0.064*\"superprofits\"')]"
      ]
     },
     "execution_count": 54,
     "metadata": {},
     "output_type": "execute_result"
    }
   ],
   "source": [
    "# Let's start with 2 topics\n",
    "ldana = models.LdaModel(corpus=corpusna, num_topics=2, id2word=id2wordna, passes=10)\n",
    "ldana.print_topics()"
   ]
  },
  {
   "cell_type": "code",
   "execution_count": 55,
   "id": "6856ffc4",
   "metadata": {},
   "outputs": [
    {
     "data": {
      "text/plain": [
       "[(0,\n",
       "  '0.105*\"prices\" + 0.105*\"rise\" + 0.105*\"inevitable\" + 0.105*\"level\" + 0.105*\"don\" + 0.026*\"farmers\" + 0.026*\"night\" + 0.026*\"irish\" + 0.026*\"report\" + 0.026*\"ifac\"'),\n",
       " (1,\n",
       "  '0.068*\"prices\" + 0.068*\"consumers\" + 0.068*\"electricity\" + 0.068*\"high\" + 0.068*\"ccgt\" + 0.068*\"massive\" + 0.068*\"low\" + 0.068*\"profits\" + 0.068*\"wholesale\" + 0.068*\"production\"'),\n",
       " (2,\n",
       "  '0.091*\"agribusiness\" + 0.091*\"ifac\" + 0.091*\"input\" + 0.091*\"irish\" + 0.091*\"report\" + 0.091*\"night\" + 0.091*\"farmers\" + 0.023*\"prices\" + 0.023*\"don\" + 0.023*\"rise\"')]"
      ]
     },
     "execution_count": 55,
     "metadata": {},
     "output_type": "execute_result"
    }
   ],
   "source": [
    "# Let's try 3 topics\n",
    "ldana = models.LdaModel(corpus=corpusna, num_topics=3, id2word=id2wordna, passes=10)\n",
    "ldana.print_topics()"
   ]
  },
  {
   "cell_type": "code",
   "execution_count": 56,
   "id": "acbf47ad",
   "metadata": {},
   "outputs": [
    {
     "data": {
      "text/plain": [
       "[(0,\n",
       "  '0.044*\"prices\" + 0.043*\"rise\" + 0.043*\"production\" + 0.043*\"inevitable\" + 0.043*\"level\" + 0.043*\"don\" + 0.043*\"superprofits\" + 0.043*\"high\" + 0.043*\"low\" + 0.043*\"agribusiness\"'),\n",
       " (1,\n",
       "  '0.044*\"prices\" + 0.043*\"rise\" + 0.043*\"inevitable\" + 0.043*\"don\" + 0.043*\"level\" + 0.043*\"agribusiness\" + 0.043*\"ifac\" + 0.043*\"night\" + 0.043*\"irish\" + 0.043*\"input\"'),\n",
       " (2,\n",
       "  '0.071*\"prices\" + 0.070*\"profits\" + 0.070*\"ccgt\" + 0.070*\"electricity\" + 0.070*\"cost\" + 0.070*\"wholesale\" + 0.070*\"low\" + 0.070*\"consumers\" + 0.070*\"massive\" + 0.070*\"high\"'),\n",
       " (3,\n",
       "  '0.070*\"farmers\" + 0.070*\"irish\" + 0.070*\"report\" + 0.070*\"input\" + 0.070*\"night\" + 0.070*\"ifac\" + 0.070*\"agribusiness\" + 0.070*\"don\" + 0.070*\"level\" + 0.070*\"inevitable\"')]"
      ]
     },
     "execution_count": 56,
     "metadata": {},
     "output_type": "execute_result"
    }
   ],
   "source": [
    "# Let's try 4 topics\n",
    "ldana = models.LdaModel(corpus=corpusna, num_topics=4, id2word=id2wordna, passes=10)\n",
    "ldana.print_topics()"
   ]
  },
  {
   "cell_type": "markdown",
   "id": "1f920954",
   "metadata": {},
   "source": [
    "### Identify Topics in Each Document"
   ]
  },
  {
   "cell_type": "code",
   "execution_count": 57,
   "id": "83db7715",
   "metadata": {},
   "outputs": [
    {
     "data": {
      "text/plain": [
       "[(0,\n",
       "  '0.098*\"ifac\" + 0.098*\"irish\" + 0.098*\"report\" + 0.098*\"night\" + 0.098*\"input\" + 0.098*\"agribusiness\" + 0.098*\"farmers\" + 0.020*\"prices\" + 0.020*\"inevitable\" + 0.020*\"rise\"'),\n",
       " (1,\n",
       "  '0.070*\"high\" + 0.070*\"superprofits\" + 0.070*\"massive\" + 0.070*\"low\" + 0.070*\"ccgt\" + 0.070*\"wholesale\" + 0.070*\"profits\" + 0.070*\"consumers\" + 0.070*\"cost\" + 0.070*\"electricity\"'),\n",
       " (2,\n",
       "  '0.043*\"prices\" + 0.043*\"inevitable\" + 0.043*\"rise\" + 0.043*\"don\" + 0.043*\"level\" + 0.043*\"irish\" + 0.043*\"report\" + 0.043*\"night\" + 0.043*\"input\" + 0.043*\"agribusiness\"'),\n",
       " (3,\n",
       "  '0.116*\"prices\" + 0.116*\"inevitable\" + 0.116*\"rise\" + 0.116*\"don\" + 0.116*\"level\" + 0.023*\"irish\" + 0.023*\"report\" + 0.023*\"night\" + 0.023*\"input\" + 0.023*\"agribusiness\"')]"
      ]
     },
     "execution_count": 57,
     "metadata": {},
     "output_type": "execute_result"
    }
   ],
   "source": [
    "# final LDA model (for now)\n",
    "ldana = models.LdaModel(corpus=corpusna, num_topics=4, id2word=id2wordna, passes=80)\n",
    "ldana.print_topics()"
   ]
  },
  {
   "cell_type": "code",
   "execution_count": null,
   "id": "d07b7ba1",
   "metadata": {},
   "outputs": [],
   "source": []
  }
 ],
 "metadata": {
  "kernelspec": {
   "display_name": "mypython",
   "language": "python",
   "name": "mypython"
  },
  "language_info": {
   "codemirror_mode": {
    "name": "ipython",
    "version": 3
   },
   "file_extension": ".py",
   "mimetype": "text/x-python",
   "name": "python",
   "nbconvert_exporter": "python",
   "pygments_lexer": "ipython3",
   "version": "3.7.13"
  }
 },
 "nbformat": 4,
 "nbformat_minor": 5
}
