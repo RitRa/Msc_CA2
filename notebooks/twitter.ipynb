{
 "cells": [
  {
   "cell_type": "markdown",
   "metadata": {},
   "source": [
    "First, to get acess to the tweets, you need to setup a developer account with Twitter at https://developer.twitter.com/en/portal/products/elevated\n",
    "\n",
    "This will give you the api key, api key secret, access token and access token secret to gain access to the tweets. To get elevated access to twitter you need to expalin what you are doing with the tweets. gives you acess to 2M Tweets per month / Project.\n",
    "    \n",
    "To get all the tweets we will use a python library called Tweepy, using pip install tweepy. https://docs.tweepy.org/en/latest/getting_started.html#hello-tweepy\n",
    "\n",
    "\n",
    "OPen twitter api in postman, to view the collection\n",
    "https://www.postman.com/twitter/workspace/twitter-s-public-workspace/collection/9956214-784efcda-ed4c-4491-a4c0-a26470a67400?ctx=documentation\n",
    "\n",
    "\n",
    "\n"
   ]
  },
  {
   "cell_type": "markdown",
   "metadata": {},
   "source": [
    "tutorials - https://www.youtube.com/watch?v=Lu1nskBkPJU\n",
    "    \n",
    "https://www.youtube.com/watch?v=kgNNhjTGLN0\n",
    "    \n",
    "https://www.earthdatascience.org/courses/use-data-open-source-python/intro-to-apis/twitter-data-in-python/"
   ]
  },
  {
   "cell_type": "code",
   "execution_count": 1,
   "metadata": {},
   "outputs": [],
   "source": [
    "# library \n",
    "#!pip install tweepy\n",
    "import requests\n",
    "import json\n",
    "import pprint\n",
    "import pandas as pd\n",
    "import tweepy "
   ]
  },
  {
   "cell_type": "code",
   "execution_count": 2,
   "metadata": {},
   "outputs": [],
   "source": [
    "consumer_key = \"xxxx\"\n",
    "consumer_secret = \"xxxx\"\n",
    "access_token = \"xxxx\"\n",
    "access_token_secret = \"xxxx\"\n",
    "bearer_token = \"xxxx\""
   ]
  },
  {
   "cell_type": "code",
   "execution_count": 4,
   "metadata": {},
   "outputs": [],
   "source": [
    "\n",
    "auth = tweepy.OAuth1UserHandler(\n",
    "   consumer_key, consumer_secret, access_token, access_token_secret\n",
    ")\n",
    "\n",
    "api = tweepy.API(auth)\n"
   ]
  },
  {
   "cell_type": "markdown",
   "metadata": {},
   "source": [
    "https://towardsdatascience.com/searching-for-tweets-with-python-f659144b225f\n",
    "\n",
    "https://medium.com/free-code-camp/basic-data-analysis-on-twitter-with-python-251c2a85062e"
   ]
  },
  {
   "cell_type": "code",
   "execution_count": 5,
   "metadata": {},
   "outputs": [],
   "source": [
    "\n",
    "#its bad practice to place your bearer token directly into the script (this is just done for illustration purposes)\n",
    "BEARER_TOKEN = bearer_token\n",
    "#define search twitter function\n",
    "def search_twitter(query, tweet_fields, bearer_token = BEARER_TOKEN):\n",
    "    headers = {\"Authorization\": \"Bearer {}\".format(bearer_token)}\n",
    "\n",
    "    url = \"https://api.twitter.com/2/tweets/search/recent?query={}&{}\".format(\n",
    "        query, tweet_fields\n",
    "    )\n",
    "    response = requests.request(\"GET\", url, headers=headers)\n",
    "\n",
    "    print(response.status_code)\n",
    "\n",
    "    if response.status_code != 200:\n",
    "        raise Exception(response.status_code, response.text)\n",
    "    return response.json()\n",
    "\n"
   ]
  },
  {
   "cell_type": "code",
   "execution_count": 6,
   "metadata": {},
   "outputs": [
    {
     "name": "stdout",
     "output_type": "stream",
     "text": [
      "200\n",
      "{\n",
      "    \"data\": [\n",
      "        {\n",
      "            \"author_id\": \"2233683911\",\n",
      "            \"created_at\": \"2022-04-29T09:37:26.000Z\",\n",
      "            \"id\": \"1519974126299009024\",\n",
      "            \"text\": \"@Jerry_grey2002 The power of agriculture and government subsidies for its people can do wonders for a nation. This is what happens when you're not interested in profit, but the well-being of your people.\"\n",
      "        },\n",
      "        {\n",
      "            \"author_id\": \"1488419180265107456\",\n",
      "            \"created_at\": \"2022-04-29T09:37:23.000Z\",\n",
      "            \"id\": \"1519974116753047552\",\n",
      "            \"text\": \"RT @MP_MyGov: \\u0936\\u0941\\u0917\\u0930-\\u092b\\u094d\\u0930\\u0940 \\u0906\\u0932\\u0942 \\u0915\\u0947 \\u0928\\u093e\\u092e \\u0938\\u0947 \\u0907\\u0938\\u0915\\u0940 \\u0932\\u094b\\u0915\\u092a\\u094d\\u0930\\u093f\\u092f\\u0924\\u093e \\u0926\\u0947\\u0936 \\u0939\\u0940 \\u0928\\u0939\\u0940\\u0902 \\u0935\\u093f\\u0926\\u0947\\u0936 \\u092e\\u0947\\u0902 \\u092d\\u0940 \\u092c\\u0922\\u093c \\u0930\\u0939\\u0940 \\u0939\\u0948\\u0964 \\u091c\\u093f\\u0932\\u0947 \\u092e\\u0947\\u0902 \\u0939\\u0930 \\u0938\\u093e\\u0932 45 \\u0939\\u091c\\u093e\\u0930 \\u0939\\u0947\\u0915\\u094d\\u091f\\u0947\\u092f\\u0930 \\u092e\\u0947\\u0902 \\u0932\\u0917\\u092d\\u0917 20 \\u0932\\u093e\\u0916\\u2026\"\n",
      "        },\n",
      "        {\n",
      "            \"author_id\": \"1173630570468925440\",\n",
      "            \"created_at\": \"2022-04-29T09:37:11.000Z\",\n",
      "            \"id\": \"1519974065976578049\",\n",
      "            \"text\": \"Modern Agriculture. Beautiful Farming https://t.co/zUW4fDcFZM\"\n",
      "        },\n",
      "        {\n",
      "            \"author_id\": \"1126837608112218112\",\n",
      "            \"created_at\": \"2022-04-29T09:37:10.000Z\",\n",
      "            \"id\": \"1519974062285418496\",\n",
      "            \"text\": \"RT @AgriGoI: Green signal for use of drones in agriculture, granting an interim approval for 2 years (starting 18th April 2022).\\n\\n@nstomar\\u2026\"\n",
      "        },\n",
      "        {\n",
      "            \"author_id\": \"1463485216069013506\",\n",
      "            \"created_at\": \"2022-04-29T09:37:05.000Z\",\n",
      "            \"id\": \"1519974038663155713\",\n",
      "            \"text\": \"RT @momblogger: Now in Benguet with our #philippinecoffee women farmers. They are voting for you @lenirobredo  @kikopangilinan . Explained\\u2026\"\n",
      "        },\n",
      "        {\n",
      "            \"author_id\": \"572598148\",\n",
      "            \"created_at\": \"2022-04-29T09:37:04.000Z\",\n",
      "            \"id\": \"1519974036146737154\",\n",
      "            \"text\": \"@fred08 L'\\u00e9tude de Seralini \\u00e9tait effectivement invalide, mais il me semble que Foucart ne le d\\u00e9fend pas \\u00e0 outrance dans cet article et cela n'invalide pas ses informations sur ce \\\"pseudo-media\\\" qu'est Agriculture et environnement\"\n",
      "        },\n",
      "        {\n",
      "            \"author_id\": \"1011739912717021184\",\n",
      "            \"created_at\": \"2022-04-29T09:37:04.000Z\",\n",
      "            \"id\": \"1519974033923919872\",\n",
      "            \"text\": \"Agriculture and industry are water Hogs.\"\n",
      "        },\n",
      "        {\n",
      "            \"author_id\": \"1517800774549577733\",\n",
      "            \"created_at\": \"2022-04-29T09:37:02.000Z\",\n",
      "            \"id\": \"1519974027879755776\",\n",
      "            \"text\": \"RT @HypathieBlog: Sur la plan\\u00e8te, 40 % des terres sont d\\u00e9sormais d\\u00e9grad\\u00e9es, sous l'effet de l'agriculture intensive, de l'urbanisation et d\\u2026\"\n",
      "        },\n",
      "        {\n",
      "            \"author_id\": \"2411320345\",\n",
      "            \"created_at\": \"2022-04-29T09:36:54.000Z\",\n",
      "            \"id\": \"1519973992316157952\",\n",
      "            \"text\": \"RT @pouruneautrepac: Surprise\\u203c\\ufe0f La vraie r\\u00e9ponse de @J_Denormandie \\u00e0 la Commission \\ud83c\\uddea\\ud83c\\uddfa rejette les observations sur le #PSN \\ud83c\\uddeb\\ud83c\\uddf7\\nhttps://t.co/\\u2026\"\n",
      "        },\n",
      "        {\n",
      "            \"author_id\": \"1221731710141784064\",\n",
      "            \"created_at\": \"2022-04-29T09:36:52.000Z\",\n",
      "            \"id\": \"1519973985206751232\",\n",
      "            \"text\": \"RT @Pathankotfob: #AatmaNirbharKrishi is becoming a reality! \\n@mygovindia \\n#AtmanirbharBharat \\n#agriculture https://t.co/hxzHqMoPsG\"\n",
      "        }\n",
      "    ],\n",
      "    \"meta\": {\n",
      "        \"newest_id\": \"1519974126299009024\",\n",
      "        \"next_token\": \"b26v89c19zqg8o3fpytotfzwe74geetrp9emox03e8qkd\",\n",
      "        \"oldest_id\": \"1519973985206751232\",\n",
      "        \"result_count\": 10\n",
      "    }\n",
      "}\n"
     ]
    }
   ],
   "source": [
    "#search term\n",
    "query = \"agriculture\"\n",
    "\n",
    "#\"country\": \"United States\"\n",
    "\n",
    "\n",
    "#\"country\": \"United States\"\n",
    "#twitter fields to be returned by api call\n",
    "tweet_fields = \"tweet.fields=text,author_id,created_at\"\n",
    "\n",
    "#place_fields = \"place.fields=country\"\n",
    "\n",
    "#twitter api call\n",
    "json_response = search_twitter(query=query, tweet_fields=tweet_fields ,  bearer_token=BEARER_TOKEN)\n",
    "\n",
    "\n",
    "#pretty printing\n",
    "print(json.dumps(json_response, indent=4, sort_keys=True))"
   ]
  },
  {
   "cell_type": "code",
   "execution_count": 7,
   "metadata": {},
   "outputs": [
    {
     "name": "stdout",
     "output_type": "stream",
     "text": [
      "[{'author_id': '2233683911',\n",
      "  'created_at': '2022-04-29T09:37:26.000Z',\n",
      "  'id': '1519974126299009024',\n",
      "  'text': '@Jerry_grey2002 The power of agriculture and government subsidies '\n",
      "          'for its people can do wonders for a nation. This is what happens '\n",
      "          \"when you're not interested in profit, but the well-being of your \"\n",
      "          'people.'},\n",
      " {'author_id': '1488419180265107456',\n",
      "  'created_at': '2022-04-29T09:37:23.000Z',\n",
      "  'id': '1519974116753047552',\n",
      "  'text': 'RT @MP_MyGov: शुगर-फ्री आलू के नाम से इसकी लोकप्रियता देश ही नहीं '\n",
      "          'विदेश में भी बढ़ रही है। जिले में हर साल 45 हजार हेक्टेयर में लगभग '\n",
      "          '20 लाख…'},\n",
      " {'author_id': '1173630570468925440',\n",
      "  'created_at': '2022-04-29T09:37:11.000Z',\n",
      "  'id': '1519974065976578049',\n",
      "  'text': 'Modern Agriculture. Beautiful Farming https://t.co/zUW4fDcFZM'},\n",
      " {'author_id': '1126837608112218112',\n",
      "  'created_at': '2022-04-29T09:37:10.000Z',\n",
      "  'id': '1519974062285418496',\n",
      "  'text': 'RT @AgriGoI: Green signal for use of drones in agriculture, '\n",
      "          'granting an interim approval for 2 years (starting 18th April '\n",
      "          '2022).\\n'\n",
      "          '\\n'\n",
      "          '@nstomar…'},\n",
      " {'author_id': '1463485216069013506',\n",
      "  'created_at': '2022-04-29T09:37:05.000Z',\n",
      "  'id': '1519974038663155713',\n",
      "  'text': 'RT @momblogger: Now in Benguet with our #philippinecoffee women '\n",
      "          'farmers. They are voting for you @lenirobredo  @kikopangilinan . '\n",
      "          'Explained…'},\n",
      " {'author_id': '572598148',\n",
      "  'created_at': '2022-04-29T09:37:04.000Z',\n",
      "  'id': '1519974036146737154',\n",
      "  'text': \"@fred08 L'étude de Seralini était effectivement invalide, mais il \"\n",
      "          'me semble que Foucart ne le défend pas à outrance dans cet article '\n",
      "          'et cela n\\'invalide pas ses informations sur ce \"pseudo-media\" '\n",
      "          \"qu'est Agriculture et environnement\"},\n",
      " {'author_id': '1011739912717021184',\n",
      "  'created_at': '2022-04-29T09:37:04.000Z',\n",
      "  'id': '1519974033923919872',\n",
      "  'text': 'Agriculture and industry are water Hogs.'},\n",
      " {'author_id': '1517800774549577733',\n",
      "  'created_at': '2022-04-29T09:37:02.000Z',\n",
      "  'id': '1519974027879755776',\n",
      "  'text': 'RT @HypathieBlog: Sur la planète, 40 % des terres sont désormais '\n",
      "          \"dégradées, sous l'effet de l'agriculture intensive, de \"\n",
      "          \"l'urbanisation et d…\"},\n",
      " {'author_id': '2411320345',\n",
      "  'created_at': '2022-04-29T09:36:54.000Z',\n",
      "  'id': '1519973992316157952',\n",
      "  'text': 'RT @pouruneautrepac: Surprise‼️ La vraie réponse de @J_Denormandie '\n",
      "          'à la Commission 🇪🇺 rejette les observations sur le #PSN 🇫🇷\\n'\n",
      "          'https://t.co/…'},\n",
      " {'author_id': '1221731710141784064',\n",
      "  'created_at': '2022-04-29T09:36:52.000Z',\n",
      "  'id': '1519973985206751232',\n",
      "  'text': 'RT @Pathankotfob: #AatmaNirbharKrishi is becoming a reality! \\n'\n",
      "          '@mygovindia \\n'\n",
      "          '#AtmanirbharBharat \\n'\n",
      "          '#agriculture https://t.co/hxzHqMoPsG'}]\n"
     ]
    }
   ],
   "source": [
    "pprint.pprint(json_response['data'])"
   ]
  },
  {
   "cell_type": "code",
   "execution_count": 8,
   "metadata": {},
   "outputs": [],
   "source": [
    "def make_df(json_response):\n",
    "    return(pd.DataFrame(json_response['data']))"
   ]
  },
  {
   "cell_type": "code",
   "execution_count": 9,
   "metadata": {},
   "outputs": [],
   "source": [
    "df =make_df(json_response)"
   ]
  },
  {
   "cell_type": "code",
   "execution_count": 10,
   "metadata": {},
   "outputs": [
    {
     "name": "stdout",
     "output_type": "stream",
     "text": [
      "                                                text  \\\n",
      "0  @Jerry_grey2002 The power of agriculture and g...   \n",
      "1  RT @MP_MyGov: शुगर-फ्री आलू के नाम से इसकी लोक...   \n",
      "2  Modern Agriculture. Beautiful Farming https://...   \n",
      "3  RT @AgriGoI: Green signal for use of drones in...   \n",
      "4  RT @momblogger: Now in Benguet with our #phili...   \n",
      "5  @fred08 L'étude de Seralini était effectivemen...   \n",
      "6           Agriculture and industry are water Hogs.   \n",
      "7  RT @HypathieBlog: Sur la planète, 40 % des ter...   \n",
      "8  RT @pouruneautrepac: Surprise‼️ La vraie répon...   \n",
      "9  RT @Pathankotfob: #AatmaNirbharKrishi is becom...   \n",
      "\n",
      "                 created_at            author_id                   id  \n",
      "0  2022-04-29T09:37:26.000Z           2233683911  1519974126299009024  \n",
      "1  2022-04-29T09:37:23.000Z  1488419180265107456  1519974116753047552  \n",
      "2  2022-04-29T09:37:11.000Z  1173630570468925440  1519974065976578049  \n",
      "3  2022-04-29T09:37:10.000Z  1126837608112218112  1519974062285418496  \n",
      "4  2022-04-29T09:37:05.000Z  1463485216069013506  1519974038663155713  \n",
      "5  2022-04-29T09:37:04.000Z            572598148  1519974036146737154  \n",
      "6  2022-04-29T09:37:04.000Z  1011739912717021184  1519974033923919872  \n",
      "7  2022-04-29T09:37:02.000Z  1517800774549577733  1519974027879755776  \n",
      "8  2022-04-29T09:36:54.000Z           2411320345  1519973992316157952  \n",
      "9  2022-04-29T09:36:52.000Z  1221731710141784064  1519973985206751232  \n"
     ]
    }
   ],
   "source": [
    "pd.options.display.max_rows = 999\n",
    "\n",
    "print(df)"
   ]
  },
  {
   "cell_type": "code",
   "execution_count": null,
   "metadata": {},
   "outputs": [],
   "source": []
  },
  {
   "cell_type": "code",
   "execution_count": null,
   "metadata": {},
   "outputs": [],
   "source": []
  }
 ],
 "metadata": {
  "kernelspec": {
   "display_name": "Python 3 (ipykernel)",
   "language": "python",
   "name": "python3"
  },
  "language_info": {
   "codemirror_mode": {
    "name": "ipython",
    "version": 3
   },
   "file_extension": ".py",
   "mimetype": "text/x-python",
   "name": "python",
   "nbconvert_exporter": "python",
   "pygments_lexer": "ipython3",
   "version": "3.9.6"
  }
 },
 "nbformat": 4,
 "nbformat_minor": 4
}
