{
 "cells": [
  {
   "cell_type": "markdown",
   "id": "7eec6339",
   "metadata": {},
   "source": [
    "reference \n",
    "https://towardsdatascience.com/time-series-prediction-using-prophet-in-python-35d65f626236"
   ]
  },
  {
   "cell_type": "code",
   "execution_count": 1,
   "id": "e2655f07",
   "metadata": {},
   "outputs": [],
   "source": [
    "#PyStan is a Python interface to Stan, a package for Bayesian inference.\n",
    "#pip install pystan"
   ]
  },
  {
   "cell_type": "code",
   "execution_count": 2,
   "id": "fed128d7",
   "metadata": {},
   "outputs": [],
   "source": [
    "#conda install -c conda-forge fbprophet"
   ]
  },
  {
   "cell_type": "code",
   "execution_count": null,
   "id": "ba373c06",
   "metadata": {},
   "outputs": [],
   "source": [
    "from fbprophet import Prophet\n",
    "from fbprophet.plot import plot_plotly\n",
    "import numpy as np\n",
    "import pandas as pd\n",
    "\n",
    "import matplotlib.pyplot as plt\n",
    "import plotly.offline as py\n",
    "py.init_notebook_mode()\n",
    "%matplotlib inline"
   ]
  },
  {
   "cell_type": "code",
   "execution_count": null,
   "id": "76427158",
   "metadata": {},
   "outputs": [],
   "source": [
    "df_fertiliser =  pd.read_pickle(\"../data/df_fertiliser.pkl\")  "
   ]
  },
  {
   "cell_type": "code",
   "execution_count": null,
   "id": "d7f0d890",
   "metadata": {},
   "outputs": [],
   "source": [
    "df_fertiliser.head(5)"
   ]
  },
  {
   "cell_type": "code",
   "execution_count": null,
   "id": "ceb1b5dc",
   "metadata": {},
   "outputs": [],
   "source": [
    "df_fertiliser.info()"
   ]
  },
  {
   "cell_type": "code",
   "execution_count": null,
   "id": "075637ac",
   "metadata": {},
   "outputs": [],
   "source": [
    "df_fertiliser = df_fertiliser.dropna()"
   ]
  },
  {
   "cell_type": "code",
   "execution_count": null,
   "id": "9226ce1c",
   "metadata": {},
   "outputs": [],
   "source": [
    "from sklearn.preprocessing import LabelEncoder\n",
    "le = LabelEncoder()\n",
    "df_fertiliser.iloc[:,7] = le.fit_transform(df_fertiliser.iloc[:,7])\n",
    "df_fertiliser.head(2)"
   ]
  },
  {
   "cell_type": "code",
   "execution_count": null,
   "id": "2e85cfe5",
   "metadata": {},
   "outputs": [],
   "source": [
    "#keep date, fertiliser_type, month_year, month, year\n",
    "X= df_fertiliser.drop(['value', 'statistic', 'unit'], axis=1) # feature matrix \n",
    "y = df_fertiliser['value']\n",
    "class_labels = np.unique(y)"
   ]
  },
  {
   "cell_type": "code",
   "execution_count": null,
   "id": "3d0039e4",
   "metadata": {},
   "outputs": [],
   "source": [
    "train_dataset= pd.DataFrame()\n",
    "#input\n",
    "train_dataset['ds'] = pd.to_datetime(X[\"date\"])\n",
    "#target\n",
    "train_dataset['y']=y\n",
    "train_dataset.head(2)"
   ]
  },
  {
   "cell_type": "code",
   "execution_count": null,
   "id": "087178a7",
   "metadata": {},
   "outputs": [],
   "source": [
    "prophet_basic = Prophet()\n",
    "prophet_basic.fit(train_dataset)"
   ]
  },
  {
   "cell_type": "code",
   "execution_count": null,
   "id": "557bef11",
   "metadata": {},
   "outputs": [],
   "source": [
    "future= prophet_basic.make_future_dataframe(periods=100)\n",
    "future.tail(2)"
   ]
  },
  {
   "cell_type": "code",
   "execution_count": null,
   "id": "ac75ca63",
   "metadata": {},
   "outputs": [],
   "source": []
  }
 ],
 "metadata": {
  "kernelspec": {
   "display_name": "mypython",
   "language": "python",
   "name": "mypython"
  },
  "language_info": {
   "codemirror_mode": {
    "name": "ipython",
    "version": 3
   },
   "file_extension": ".py",
   "mimetype": "text/x-python",
   "name": "python",
   "nbconvert_exporter": "python",
   "pygments_lexer": "ipython3",
   "version": "3.7.13"
  }
 },
 "nbformat": 4,
 "nbformat_minor": 5
}
