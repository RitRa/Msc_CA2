{
 "cells": [
  {
   "cell_type": "markdown",
   "metadata": {},
   "source": [
    "As twitter only goes back 5 - 7 days, or 1,500 tweets. There really wasn't enough data so I decided to use web scraping instead. Twint is an advanced web scraping python library\n",
    "\n",
    "This tutorial helped. \n",
    "https://programbugcorrection.blogspot.com/2021/03/data-scraper-library-twint-import-c-c.html\n",
    "\n",
    "### Twint is an advanced twitter scraper"
   ]
  },
  {
   "cell_type": "code",
   "execution_count": 9,
   "metadata": {},
   "outputs": [
    {
     "name": "stdout",
     "output_type": "stream",
     "text": [
      "Collecting twint\n",
      "  Cloning https://github.com/twintproject/twint.git (to revision origin/master) to /private/var/folders/6f/vnyd6yg5749625wl5h3np2r00000gn/T/pip-install-7pt8muzq/twint_984ecd6e007d44c8930629f45cf80711\n",
      "  Running command git clone -q https://github.com/twintproject/twint.git /private/var/folders/6f/vnyd6yg5749625wl5h3np2r00000gn/T/pip-install-7pt8muzq/twint_984ecd6e007d44c8930629f45cf80711\n",
      "\u001b[33m  WARNING: Did not find branch or tag 'origin/master', assuming revision or ref.\u001b[0m\n",
      "  Running command git checkout -q origin/master\n",
      "Requirement already satisfied: aiohttp in /usr/local/lib/python3.9/site-packages (from twint) (3.8.1)\n",
      "Requirement already satisfied: aiodns in /usr/local/lib/python3.9/site-packages (from twint) (3.0.0)\n",
      "Requirement already satisfied: beautifulsoup4 in /usr/local/lib/python3.9/site-packages (from twint) (4.11.1)\n",
      "Requirement already satisfied: cchardet in /usr/local/lib/python3.9/site-packages (from twint) (2.1.7)\n",
      "Requirement already satisfied: dataclasses in /Users/ritaraher/Library/Python/3.9/lib/python/site-packages (from twint) (0.6)\n",
      "Requirement already satisfied: elasticsearch in /usr/local/lib/python3.9/site-packages (from twint) (8.1.3)\n",
      "Requirement already satisfied: pysocks in /usr/local/lib/python3.9/site-packages (from twint) (1.7.1)\n",
      "Requirement already satisfied: pandas in /usr/local/lib/python3.9/site-packages (from twint) (1.4.1)\n",
      "Requirement already satisfied: aiohttp_socks in /usr/local/lib/python3.9/site-packages (from twint) (0.7.1)\n",
      "Requirement already satisfied: schedule in /usr/local/lib/python3.9/site-packages (from twint) (1.1.0)\n",
      "Requirement already satisfied: geopy in /usr/local/lib/python3.9/site-packages (from twint) (2.2.0)\n",
      "Requirement already satisfied: fake-useragent in /usr/local/lib/python3.9/site-packages (from twint) (0.1.11)\n",
      "Requirement already satisfied: googletransx in /usr/local/lib/python3.9/site-packages (from twint) (2.4.2)\n",
      "Requirement already satisfied: pycares>=4.0.0 in /usr/local/lib/python3.9/site-packages (from aiodns->twint) (4.1.2)\n",
      "Requirement already satisfied: cffi>=1.5.0 in /usr/local/lib/python3.9/site-packages (from pycares>=4.0.0->aiodns->twint) (1.15.0)\n",
      "Requirement already satisfied: pycparser in /usr/local/lib/python3.9/site-packages (from cffi>=1.5.0->pycares>=4.0.0->aiodns->twint) (2.21)\n",
      "Requirement already satisfied: async-timeout<5.0,>=4.0.0a3 in /usr/local/lib/python3.9/site-packages (from aiohttp->twint) (4.0.2)\n",
      "Requirement already satisfied: charset-normalizer<3.0,>=2.0 in /usr/local/lib/python3.9/site-packages (from aiohttp->twint) (2.0.12)\n",
      "Requirement already satisfied: attrs>=17.3.0 in /usr/local/lib/python3.9/site-packages (from aiohttp->twint) (21.4.0)\n",
      "Requirement already satisfied: yarl<2.0,>=1.0 in /usr/local/lib/python3.9/site-packages (from aiohttp->twint) (1.7.2)\n",
      "Requirement already satisfied: frozenlist>=1.1.1 in /usr/local/lib/python3.9/site-packages (from aiohttp->twint) (1.3.0)\n",
      "Requirement already satisfied: multidict<7.0,>=4.5 in /usr/local/lib/python3.9/site-packages (from aiohttp->twint) (6.0.2)\n",
      "Requirement already satisfied: aiosignal>=1.1.2 in /usr/local/lib/python3.9/site-packages (from aiohttp->twint) (1.2.0)\n",
      "Requirement already satisfied: idna>=2.0 in /usr/local/lib/python3.9/site-packages (from yarl<2.0,>=1.0->aiohttp->twint) (3.3)\n",
      "Requirement already satisfied: python-socks[asyncio]<3.0.0,>=2.0.0 in /usr/local/lib/python3.9/site-packages (from aiohttp_socks->twint) (2.0.3)\n",
      "Requirement already satisfied: soupsieve>1.2 in /usr/local/lib/python3.9/site-packages (from beautifulsoup4->twint) (2.3.2.post1)\n",
      "Requirement already satisfied: elastic-transport<9,>=8 in /usr/local/lib/python3.9/site-packages (from elasticsearch->twint) (8.1.2)\n",
      "Requirement already satisfied: urllib3<2,>=1.26.2 in /usr/local/lib/python3.9/site-packages (from elastic-transport<9,>=8->elasticsearch->twint) (1.26.8)\n",
      "Requirement already satisfied: certifi in /usr/local/lib/python3.9/site-packages (from elastic-transport<9,>=8->elasticsearch->twint) (2021.10.8)\n",
      "Requirement already satisfied: geographiclib<2,>=1.49 in /usr/local/lib/python3.9/site-packages (from geopy->twint) (1.52)\n",
      "Requirement already satisfied: requests in /usr/local/lib/python3.9/site-packages (from googletransx->twint) (2.27.1)\n",
      "Requirement already satisfied: numpy>=1.18.5 in /usr/local/lib/python3.9/site-packages (from pandas->twint) (1.22.2)\n",
      "Requirement already satisfied: python-dateutil>=2.8.1 in /usr/local/lib/python3.9/site-packages (from pandas->twint) (2.8.2)\n",
      "Requirement already satisfied: pytz>=2020.1 in /usr/local/lib/python3.9/site-packages (from pandas->twint) (2021.3)\n",
      "Requirement already satisfied: six>=1.5 in /usr/local/lib/python3.9/site-packages (from python-dateutil>=2.8.1->pandas->twint) (1.16.0)\n",
      "\u001b[33mWARNING: You are using pip version 21.1.3; however, version 22.0.4 is available.\n",
      "You should consider upgrading via the '/usr/local/opt/python@3.9/bin/python3.9 -m pip install --upgrade pip' command.\u001b[0m\n"
     ]
    }
   ],
   "source": [
    "#pip install beautifulsoup4\n",
    "#pip install selenium\n",
    "!pip3 install --user --upgrade git+\"https://github.com/twintproject/twint.git@origin/master#egg=twint\" \n",
    "#pip3 uninstall nest_asyncio"
   ]
  },
  {
   "cell_type": "code",
   "execution_count": 6,
   "metadata": {},
   "outputs": [
    {
     "ename": "NameError",
     "evalue": "name 'nest_asyncio' is not defined",
     "output_type": "error",
     "traceback": [
      "\u001b[0;31m---------------------------------------------------------------------------\u001b[0m",
      "\u001b[0;31mNameError\u001b[0m                                 Traceback (most recent call last)",
      "\u001b[0;32m<ipython-input-6-d857ce299ed7>\u001b[0m in \u001b[0;36m<module>\u001b[0;34m\u001b[0m\n\u001b[0;32m----> 1\u001b[0;31m \u001b[0mnest_asyncio\u001b[0m\u001b[0;34m.\u001b[0m\u001b[0mapply\u001b[0m\u001b[0;34m(\u001b[0m\u001b[0;34m)\u001b[0m\u001b[0;34m\u001b[0m\u001b[0;34m\u001b[0m\u001b[0m\n\u001b[0m",
      "\u001b[0;31mNameError\u001b[0m: name 'nest_asyncio' is not defined"
     ]
    }
   ],
   "source": [
    "nest_asyncio.apply()"
   ]
  },
  {
   "cell_type": "code",
   "execution_count": 10,
   "metadata": {},
   "outputs": [
    {
     "ename": "NameError",
     "evalue": "name 'twint' is not defined",
     "output_type": "error",
     "traceback": [
      "\u001b[0;31m---------------------------------------------------------------------------\u001b[0m",
      "\u001b[0;31mNameError\u001b[0m                                 Traceback (most recent call last)",
      "\u001b[0;32m<ipython-input-10-7da18cc90b8a>\u001b[0m in \u001b[0;36m<module>\u001b[0;34m\u001b[0m\n\u001b[1;32m      1\u001b[0m \u001b[0;31m#Configure\u001b[0m\u001b[0;34m\u001b[0m\u001b[0;34m\u001b[0m\u001b[0;34m\u001b[0m\u001b[0m\n\u001b[0;32m----> 2\u001b[0;31m \u001b[0mc\u001b[0m \u001b[0;34m=\u001b[0m \u001b[0mtwint\u001b[0m\u001b[0;34m.\u001b[0m\u001b[0mConfig\u001b[0m\u001b[0;34m(\u001b[0m\u001b[0;34m)\u001b[0m\u001b[0;34m\u001b[0m\u001b[0;34m\u001b[0m\u001b[0m\n\u001b[0m\u001b[1;32m      3\u001b[0m \u001b[0mc\u001b[0m\u001b[0;34m.\u001b[0m\u001b[0mSearch\u001b[0m \u001b[0;34m=\u001b[0m \u001b[0;34m\"covid\"\u001b[0m\u001b[0;34m\u001b[0m\u001b[0;34m\u001b[0m\u001b[0m\n\u001b[1;32m      4\u001b[0m \u001b[0;34m\u001b[0m\u001b[0m\n\u001b[1;32m      5\u001b[0m \u001b[0;31m#Run\u001b[0m\u001b[0;34m\u001b[0m\u001b[0;34m\u001b[0m\u001b[0;34m\u001b[0m\u001b[0m\n",
      "\u001b[0;31mNameError\u001b[0m: name 'twint' is not defined"
     ]
    }
   ],
   "source": [
    "\n",
    "\n",
    "#Configure\n",
    "c = twint.Config()\n",
    "c.Search = \"covid\"\n",
    "\n",
    "#Run\n",
    "twint.run.Search(c)"
   ]
  },
  {
   "cell_type": "code",
   "execution_count": null,
   "metadata": {},
   "outputs": [],
   "source": []
  }
 ],
 "metadata": {
  "kernelspec": {
   "display_name": "Python 3",
   "language": "python",
   "name": "python3"
  },
  "language_info": {
   "codemirror_mode": {
    "name": "ipython",
    "version": 3
   },
   "file_extension": ".py",
   "mimetype": "text/x-python",
   "name": "python",
   "nbconvert_exporter": "python",
   "pygments_lexer": "ipython3",
   "version": "3.7.4"
  }
 },
 "nbformat": 4,
 "nbformat_minor": 2
}
