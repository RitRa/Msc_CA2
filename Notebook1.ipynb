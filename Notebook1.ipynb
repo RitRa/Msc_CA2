{
 "cells": [
  {
   "cell_type": "code",
   "execution_count": 63,
   "metadata": {},
   "outputs": [],
   "source": [
    "#import libraries for project\n",
    "import pandas as pd\n",
    "import numpy as np\n",
    "import seaborn as sns\n",
    "import matplotlib as plt"
   ]
  },
  {
   "cell_type": "markdown",
   "metadata": {},
   "source": [
    "Dataset was taken from CSO (https://www.cso.ie/en/statistics/)\n",
    "\n",
    "The fertilizer table can be found here https://data.cso.ie/table/AJM05. \n",
    "It looks at fertiliser Price (Euro per Tonne) from the years Jan 1980 - Feb 2022. \n",
    "\n",
    "The milk table can be found here https://data.cso.ie/table/AJM07 from Jan 2005 - Feb 2022"
   ]
  },
  {
   "cell_type": "code",
   "execution_count": 64,
   "metadata": {},
   "outputs": [],
   "source": [
    "#importing the dataset \n",
    "df_fertilizer = pd.read_csv(\"data/fertiliser_price.csv\",encoding='latin-1')   # fertilizer\n",
    "df_milk = pd.read_csv(\"data/milk_price.csv\",encoding='latin-1')   # milk"
   ]
  },
  {
   "cell_type": "code",
   "execution_count": 65,
   "metadata": {},
   "outputs": [
    {
     "data": {
      "text/html": [
       "<div>\n",
       "<style scoped>\n",
       "    .dataframe tbody tr th:only-of-type {\n",
       "        vertical-align: middle;\n",
       "    }\n",
       "\n",
       "    .dataframe tbody tr th {\n",
       "        vertical-align: top;\n",
       "    }\n",
       "\n",
       "    .dataframe thead th {\n",
       "        text-align: right;\n",
       "    }\n",
       "</style>\n",
       "<table border=\"1\" class=\"dataframe\">\n",
       "  <thead>\n",
       "    <tr style=\"text-align: right;\">\n",
       "      <th></th>\n",
       "      <th>ï»¿\"Statistic\"</th>\n",
       "      <th>Month</th>\n",
       "      <th>Type of Fertiliser</th>\n",
       "      <th>UNIT</th>\n",
       "      <th>VALUE</th>\n",
       "    </tr>\n",
       "  </thead>\n",
       "  <tbody>\n",
       "    <tr>\n",
       "      <th>0</th>\n",
       "      <td>Fertiliser Price</td>\n",
       "      <td>1980M01</td>\n",
       "      <td>Calcium Ammonium Nitrate (27.5% N)</td>\n",
       "      <td>Euro per Tonne</td>\n",
       "      <td>121</td>\n",
       "    </tr>\n",
       "    <tr>\n",
       "      <th>1</th>\n",
       "      <td>Fertiliser Price</td>\n",
       "      <td>1980M01</td>\n",
       "      <td>Urea (46% N)</td>\n",
       "      <td>Euro per Tonne</td>\n",
       "      <td>144</td>\n",
       "    </tr>\n",
       "    <tr>\n",
       "      <th>2</th>\n",
       "      <td>Fertiliser Price</td>\n",
       "      <td>1980M01</td>\n",
       "      <td>Granular Superphosphate (16% P)</td>\n",
       "      <td>Euro per Tonne</td>\n",
       "      <td>160</td>\n",
       "    </tr>\n",
       "    <tr>\n",
       "      <th>3</th>\n",
       "      <td>Fertiliser Price</td>\n",
       "      <td>1980M01</td>\n",
       "      <td>Muriate of Potash (50% K)</td>\n",
       "      <td>Euro per Tonne</td>\n",
       "      <td>109</td>\n",
       "    </tr>\n",
       "    <tr>\n",
       "      <th>4</th>\n",
       "      <td>Fertiliser Price</td>\n",
       "      <td>1980M01</td>\n",
       "      <td>Compound 0-10-20</td>\n",
       "      <td>Euro per Tonne</td>\n",
       "      <td>130</td>\n",
       "    </tr>\n",
       "  </tbody>\n",
       "</table>\n",
       "</div>"
      ],
      "text/plain": [
       "     ï»¿\"Statistic\"    Month                  Type of Fertiliser  \\\n",
       "0  Fertiliser Price  1980M01  Calcium Ammonium Nitrate (27.5% N)   \n",
       "1  Fertiliser Price  1980M01                        Urea (46% N)   \n",
       "2  Fertiliser Price  1980M01     Granular Superphosphate (16% P)   \n",
       "3  Fertiliser Price  1980M01           Muriate of Potash (50% K)   \n",
       "4  Fertiliser Price  1980M01                    Compound 0-10-20   \n",
       "\n",
       "             UNIT VALUE  \n",
       "0  Euro per Tonne   121  \n",
       "1  Euro per Tonne   144  \n",
       "2  Euro per Tonne   160  \n",
       "3  Euro per Tonne   109  \n",
       "4  Euro per Tonne   130  "
      ]
     },
     "execution_count": 65,
     "metadata": {},
     "output_type": "execute_result"
    }
   ],
   "source": [
    "df_fertilizer.head(5)"
   ]
  },
  {
   "cell_type": "markdown",
   "metadata": {},
   "source": [
    "Looking at the data. There is a bit cleaning up to do. "
   ]
  },
  {
   "cell_type": "code",
   "execution_count": 66,
   "metadata": {},
   "outputs": [],
   "source": [
    "# break apart the month column\n",
    "df_fertilizer[\"year\"]= df_fertilizer[\"Month\"].str.split(\"M\", expand = True)[0]  # create a year column\n",
    "df_fertilizer[\"month\"]= df_fertilizer[\"Month\"].str.split(\"M\", expand = True)[1]  # create a month column"
   ]
  },
  {
   "cell_type": "code",
   "execution_count": 67,
   "metadata": {},
   "outputs": [],
   "source": [
    "# drop the original column Month\n",
    "df_fertilizer.drop(columns=['Month'], inplace=True)"
   ]
  },
  {
   "cell_type": "markdown",
   "metadata": {},
   "source": [
    "\n",
    "\n",
    "df_fertilizer['month'] = pd.to_datetime(df_fertilizer['month'])\n",
    "\n",
    "#pd.to_datetime(df_fertilizer['month'], format='%m')"
   ]
  },
  {
   "cell_type": "code",
   "execution_count": 27,
   "metadata": {},
   "outputs": [
    {
     "data": {
      "image/png": "[encoded data removed]",
      "text/plain": [
       "<Figure size 432x288 with 1 Axes>"
      ]
     },
     "metadata": {},
     "output_type": "display_data"
    }
   ],
   "source": [
    "#set to seaborn\n",
    "sns.set()\n",
    "#palette\n",
    "sns.set_palette('rainbow')\n",
    "#plot size\n",
    "#plt.figure(figsize=(16, 10)) \n",
    "\n",
    "\n",
    "sns.lineplot(data=df_fertilizer, x=\"Month\", y=\"VALUE\");\n",
    "\n"
   ]
  },
  {
   "cell_type": "code",
   "execution_count": null,
   "metadata": {},
   "outputs": [],
   "source": []
  },
  {
   "cell_type": "code",
   "execution_count": null,
   "metadata": {},
   "outputs": [],
   "source": []
  }
 ],
 "metadata": {
  "kernelspec": {
   "display_name": "Python 3",
   "language": "python",
   "name": "python3"
  },
  "language_info": {
   "codemirror_mode": {
    "name": "ipython",
    "version": 3
   },
   "file_extension": ".py",
   "mimetype": "text/x-python",
   "name": "python",
   "nbconvert_exporter": "python",
   "pygments_lexer": "ipython3",
   "version": "3.7.4"
  }
 },
 "nbformat": 4,
 "nbformat_minor": 2
}
